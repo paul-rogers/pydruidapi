{
 "cells": [
  {
   "cell_type": "markdown",
   "metadata": {},
   "source": [
    "# Druid Schema Demo\n",
    "Druid is a wonderful system for high-performance queries of event data.\n",
    "Proper tuning is essential to obtain optimal performance.\n",
    "However, it can be a bit awkward to visualize parts of the system.\n",
    "This demo shows how we can use the [Druid REST API](https://druid.apache.org/docs/latest/operations/api-reference.html), Python and [Jupyter](https://jupyter.org/)\n",
    "to fill in gaps in the Druid UI.\n",
    "\n",
    "This demo shows how we can obtain the schema for a table, in our case,\n",
    "the [demo Wikipedia data table](https://druid.apache.org/docs/latest/tutorials/index.html)\n",
    "running in a [Druid hosted on Docker](https://druid.apache.org/docs/latest/tutorials/docker.html) on\n",
    "the local machine. We then show how we can analyze that schema to look for\n",
    "cost and performance optimizations.\n",
    "\n",
    "You don't heed a live Druid however, to following this demo,\n",
    "because [Jupyter Notebook Viewer](https://nbviewer.jupyter.org/) \n",
    "is showing you an already-completed notebook.\n",
    "\n",
    "The demo is based on two Python libraries: [pydruid](https://pypi.org/project/pydruid/) for queries, and a bespoke\n",
    "library, in this project, for other APIs and to prepare the reports.\n",
    "\n",
    "We start with some Python basics."
   ]
  },
  {
   "cell_type": "code",
   "execution_count": 1,
   "metadata": {},
   "outputs": [
    {
     "data": {
      "text/html": [
       "\n",
       "<style>\n",
       "  .druid table {\n",
       "      border: 1px solid black;\n",
       "      border-collapse: collapse;\n",
       "  }\n",
       "\n",
       "  .druid th, .druid td {\n",
       "      padding: 4px 1em ;\n",
       "      text-align: left;\n",
       "  }\n",
       "\n",
       "  td.druid-right, th.druid-right {\n",
       "      text-align: right;\n",
       "  }\n",
       "\n",
       "  .druid .druid-value {\n",
       "      text-align: left;\n",
       "  }\n",
       "</style>\n"
      ],
      "text/plain": [
       "<IPython.core.display.HTML object>"
      ]
     },
     "metadata": {},
     "output_type": "display_data"
    }
   ],
   "source": [
    "import api\n",
    "import report\n",
    "import model\n",
    "report.styles()"
   ]
  },
  {
   "cell_type": "markdown",
   "metadata": {},
   "source": [
    "Next we create a client for our endpoint and create an instance of the\n",
    "`Report` class that will prepare the reports. (Druid's router was placed\n",
    "on port 8899 so it does not conflict with Jupyter on port 8888.)"
   ]
  },
  {
   "cell_type": "code",
   "execution_count": 2,
   "metadata": {},
   "outputs": [],
   "source": [
    "config = api.default_local_docker_config(8899)\n",
    "client = api.Druid(config)\n",
    "reports = report.Reports(client)"
   ]
  },
  {
   "cell_type": "markdown",
   "metadata": {},
   "source": [
    "Let's first see what data sources we've defined. There are two versions\n",
    "of Wikipedia:"
   ]
  },
  {
   "cell_type": "code",
   "execution_count": 3,
   "metadata": {},
   "outputs": [
    {
     "data": {
      "text/html": [
       "<div class=\"druid\"><table>\n",
       "<tr><th>Table Name</th>\n",
       "</tr>\n",
       "<tr><td>wikipedia</td></tr>\n",
       "<tr><td>wikiticker-2015-09-12-sampled</td></tr>\n",
       "</table></div>"
      ],
      "text/plain": [
       "<IPython.core.display.HTML object>"
      ]
     },
     "metadata": {},
     "output_type": "display_data"
    }
   ],
   "source": [
    "reports.tables()"
   ]
  },
  {
   "cell_type": "markdown",
   "metadata": {},
   "source": [
    "Now, let's explore the schema of that second table:"
   ]
  },
  {
   "cell_type": "code",
   "execution_count": 4,
   "metadata": {},
   "outputs": [
    {
     "data": {
      "text/html": [
       "<div class=\"druid\"><h4>Table</h4>\n",
       "<table>\n",
       "<tr><th class=\"druid-right\">Property</th>\n",
       "<th class=\"druid-value\">Value</th>\n",
       "</tr>\n",
       "<tr><td class=\"druid-right\">Name</td><td class=\"druid-value\">wikiticker-2015-09-12-sampled</td></tr>\n",
       "<tr><td class=\"druid-right\">Created</td><td class=\"druid-value\">2021-08-03T21:35:59.908Z</td></tr>\n",
       "<tr><td class=\"druid-right\">Records</td><td class=\"druid-value\">39K</td></tr>\n",
       "<tr><td class=\"druid-right\">Size</td><td class=\"druid-value\">7195 Kib</td></tr>\n",
       "<tr><td class=\"druid-right\">Column Size</td><td class=\"druid-value\">6411 Kib</td></tr>\n",
       "<tr><td class=\"druid-right\">Non-Column Size</td><td class=\"druid-value\">785 Kib</td></tr>\n",
       "<tr><td class=\"druid-right\">Row Width</td><td class=\"druid-value\">183</td></tr>\n",
       "</table><p><h4>Columns</h4>\n",
       "<table>\n",
       "<tr><th>Name</th>\n",
       "<th>Kind</th>\n",
       "<th>Type</th>\n",
       "<th>Nulls</th>\n",
       "<th class=\"druid-right\">Cardinality</th>\n",
       "<th>Multi-value</th>\n",
       "<th>Total Size</th>\n",
       "<th class=\"druid-right\">Row Size</th>\n",
       "<th class=\"druid-right\">Row %</th>\n",
       "</tr>\n",
       "<tr><td>__time</td><td>id</td><td>long</td><td>False</td><td class=\"druid-right\"></td><td></td><td>392 Kib</td><td class=\"druid-right\">10.00</td><td class=\"druid-right\">6.1%</td></tr>\n",
       "<tr><td>added</td><td>dim</td><td>long</td><td>False</td><td class=\"druid-right\"></td><td></td><td>314 Kib</td><td class=\"druid-right\">8.00</td><td class=\"druid-right\">4.9%</td></tr>\n",
       "<tr><td>channel</td><td>dim</td><td>string</td><td>False</td><td class=\"druid-right\">45</td><td>False</td><td>510 Kib</td><td class=\"druid-right\">13.00</td><td class=\"druid-right\">8.0%</td></tr>\n",
       "<tr><td>cityName</td><td>dim</td><td>string</td><td>True</td><td class=\"druid-right\">100</td><td>False</td><td>18 Kib</td><td class=\"druid-right\">0.47</td><td class=\"druid-right\">0.3%</td></tr>\n",
       "<tr><td>comment</td><td>dim</td><td>string</td><td>False</td><td class=\"druid-right\">1285</td><td>False</td><td>2003 Kib</td><td class=\"druid-right\">51.03</td><td class=\"druid-right\">31.2%</td></tr>\n",
       "<tr><td>countryIsoCode</td><td>dim</td><td>string</td><td>True</td><td class=\"druid-right\">52</td><td>False</td><td>7598 Bytes</td><td class=\"druid-right\">0.19</td><td class=\"druid-right\">0.1%</td></tr>\n",
       "<tr><td>countryName</td><td>dim</td><td>string</td><td>True</td><td class=\"druid-right\">52</td><td>False</td><td>32 Kib</td><td class=\"druid-right\">0.82</td><td class=\"druid-right\">0.5%</td></tr>\n",
       "<tr><td>deleted</td><td>dim</td><td>long</td><td>False</td><td class=\"druid-right\"></td><td></td><td>314 Kib</td><td class=\"druid-right\">8.00</td><td class=\"druid-right\">4.9%</td></tr>\n",
       "<tr><td>delta</td><td>dim</td><td>long</td><td>False</td><td class=\"druid-right\"></td><td></td><td>314 Kib</td><td class=\"druid-right\">8.00</td><td class=\"druid-right\">4.9%</td></tr>\n",
       "<tr><td>isAnonymous</td><td>dim</td><td>string</td><td>False</td><td class=\"druid-right\">2</td><td>False</td><td>192 Kib</td><td class=\"druid-right\">4.90</td><td class=\"druid-right\">3.0%</td></tr>\n",
       "<tr><td>isMinor</td><td>dim</td><td>string</td><td>False</td><td class=\"druid-right\">2</td><td>False</td><td>179 Kib</td><td class=\"druid-right\">4.56</td><td class=\"druid-right\">2.8%</td></tr>\n",
       "<tr><td>isNew</td><td>dim</td><td>string</td><td>False</td><td class=\"druid-right\">2</td><td>False</td><td>194 Kib</td><td class=\"druid-right\">4.94</td><td class=\"druid-right\">3.0%</td></tr>\n",
       "<tr><td>isRobot</td><td>dim</td><td>string</td><td>False</td><td class=\"druid-right\">2</td><td>False</td><td>181 Kib</td><td class=\"druid-right\">4.61</td><td class=\"druid-right\">2.8%</td></tr>\n",
       "<tr><td>isUnpatrolled</td><td>dim</td><td>string</td><td>False</td><td class=\"druid-right\">2</td><td>False</td><td>190 Kib</td><td class=\"druid-right\">4.85</td><td class=\"druid-right\">3.0%</td></tr>\n",
       "<tr><td>metroCode</td><td>dim</td><td>string</td><td>True</td><td class=\"druid-right\">24</td><td>False</td><td>1281 Bytes</td><td class=\"druid-right\">0.03</td><td class=\"druid-right\">0.0%</td></tr>\n",
       "<tr><td>namespace</td><td>dim</td><td>string</td><td>False</td><td class=\"druid-right\">92</td><td>False</td><td>200 Kib</td><td class=\"druid-right\">5.10</td><td class=\"druid-right\">3.1%</td></tr>\n",
       "<tr><td>page</td><td>dim</td><td>string</td><td>False</td><td class=\"druid-right\">2181</td><td>False</td><td>924 Kib</td><td class=\"druid-right\">23.54</td><td class=\"druid-right\">14.4%</td></tr>\n",
       "<tr><td>regionIsoCode</td><td>dim</td><td>string</td><td>True</td><td class=\"druid-right\">85</td><td>False</td><td>4397 Bytes</td><td class=\"druid-right\">0.11</td><td class=\"druid-right\">0.1%</td></tr>\n",
       "<tr><td>regionName</td><td>dim</td><td>string</td><td>True</td><td class=\"druid-right\">92</td><td>False</td><td>24 Kib</td><td class=\"druid-right\">0.61</td><td class=\"druid-right\">0.4%</td></tr>\n",
       "<tr><td>user</td><td>dim</td><td>string</td><td>False</td><td class=\"druid-right\">969</td><td>False</td><td>416 Kib</td><td class=\"druid-right\">10.59</td><td class=\"druid-right\">6.5%</td></tr>\n",
       "</table></div>"
      ],
      "text/plain": [
       "<IPython.core.display.HTML object>"
      ]
     },
     "metadata": {},
     "output_type": "display_data"
    }
   ],
   "source": [
    "table = reports.table('wikiticker-2015-09-12-sampled')\n",
    "table.schema()"
   ]
  },
  {
   "cell_type": "markdown",
   "metadata": {},
   "source": [
    "## Analysis\n",
    "From here we can start our analysis of this table. We'll focus on the schema\n",
    "for now, leaving the storage optimization for another demo.\n",
    "\n",
    "A key question to ask is: are the columns pulling their own weight? Druid is\n",
    "an in-memory database&mdash;we want to ensure we use our memory wisely. A\n",
    "good place to start is with the largest columns as given by \"Row %\": the\n",
    "percentage of the entire row width taken up (on average) by the given\n",
    "column.\n",
    "\n",
    "In Druid, `string` columns are compressed using dictionary encoding. So, the\n",
    "most efficient storage is if we have all columns with the same value, even if\n",
    "that value is a hundred bytes long. The most inefficient is when each row has\n",
    "a distinct value: then the dictionary does not provide any compression and just\n",
    "acts as overhead.\n",
    "\n",
    "In our example, the `comment` column stands out: it takes 31% of the row and\n",
    "contains 1285 distinct values. (This is somewhat surprising, it says that only\n",
    "3% of edits bothered to explain their changes; assuming unique comments.)\n",
    "\n",
    "To decide if we can remove this dimension, we'd need to know if it is used,\n",
    "which is the topic of a later demo. For now, we can simply examine our goals.\n",
    "Unless our goal involves textual analysis of comments (a job for which Druid is\n",
    "not optimized), we really don't need this column. If we drop it, we save\n",
    "2 MB out of 6.4 MB, reducing our table size to 4.4 MB. Pretty good savings\n",
    "for little work. If this had been real data, the savings could be substantial.\n",
    "\n",
    "The next largest column is `page`, which is the name of the page. Here the\n",
    "decision is harder: it seems likely that someone will want statistics by page\n",
    "(to find, for example, the top-10 active pages). So we probably need to keep\n",
    "this one.\n",
    "\n",
    "It is interesting to note the number of dimensions which are *not* problems.\n",
    "For example, we might wonder if anyone uses `regionIsoCode`. But, since it\n",
    "consumes only 0.1% of the table space, we might as well keep it.\n",
    "\n",
    "Also, the [documentation](https://druid.apache.org/docs/latest/design/segments.html#sql-compatible-null-handling)\n",
    "says that nullable columns (those that allow SQL\n",
    "`NULL` values) have an overhead. But, that overhead must be pretty small as\n",
    "shown by the tiny column sizes for nullable columns such as `regionIsoCode`\n",
    "(0.1%) and `regionName` (0.4%).\n",
    "\n",
    "In summary, once you see the amount of precious memory space used by a dimension,\n",
    "you can start to make informed decisions about what to keep and what to drop.\n",
    "\n",
    "### Next Steps\n",
    "\n",
    "From here, we'd like to explore other aspects of our table to look for other performance opportunities:\n",
    "\n",
    "* Which columns are actually used in queries? Are some unused so we can remove them?\n",
    "* Which time grain is used in queries? Should we store the data at a larger time grain (i.e. use rollups?)\n",
    "* How many segments are we creating? Are we creating the [optimal segment size](https://druid.apache.org/docs/0.20.0/operations/basic-cluster-tuning.html#segment-sizes-matter)? How would we [optimize](https://druid.apache.org/docs/0.20.0/operations/segment-optimization.html) the size?\n",
    "* Which segments are queries hitting? Should we set [data expiration](https://druid.apache.org/docs/0.20.0/ingestion/data-management.html#retention) to occur sooner?\n",
    "* How much data will we end up storing over a day, week or lifetime (considering retention rules)?\n",
    "* We've talked about improvements in terms of memory size. What does this translate to in terms of dollar amounts for our given servers?\n",
    "\n",
    "We can expand the techniques used here to answer some of these questions. Those will be the topic of future demos."
   ]
  },
  {
   "cell_type": "markdown",
   "metadata": {},
   "source": [
    "## Notebook Details\n",
    "This section explains how the Notebook does its thing, in case you want to do something\n",
    "similar. The `api.py` module is a wrapper around a subset of the Druid API: just enough\n",
    "to do the analysis here. It would be trivial to extend this to other APIs (contributions\n",
    "welcome.)\n",
    "\n",
    "The `Druid` class needs only the Router endpoint: host and port. It uses a REST call to\n",
    "learn about the other nodes of the cluster, including the Coordinator. In a Docker\n",
    "environment, the host names (actualy IP addresses) which Druid reports are not what the\n",
    "client sees, so the `default_local_docker_config()` function sets up a mapping between\n",
    "the node addresses and the host running Docker (in this case, `localhost`.) Ports are\n",
    "assumed to be exposed on the same port number, though it would be simple to add port mapping\n",
    "to the configuration. The code does handle port mapping for the Router since the default\n",
    "Druid port of 8888 happens to the the same as the default Jupyter port.\n",
    "\n",
    "The code organizes operations by node kind (Router, Coordinator, etc.). Then, since we\n",
    "often work with datasources, and datasource operations are spread across nodes, we also\n",
    "have a `DataSource` class which acts as a facade on top of the node-level APIs.\n",
    "\n",
    "In Druid, there is no one API call to get table metadata. So, a `TableModel` class uses\n",
    "multiple APIs to gather the data. One of these, the [metadata query](https://druid.apache.org/docs/latest/querying/datasourcemetadataquery.html) (via [pydruid](https://pypi.org/project/pydruid/)) is costly\n",
    "on a large system, so getting the information might take a while.\n",
    "\n",
    "Finally, there is a `Report` class that creates the reports as HTML tables. If you are\n",
    "familiar with [Pandas](https://pandas.pydata.org/), you could easily load the data \n",
    "into a Pandas dataframe. That as\n",
    "not done here in the interest of minimizing dependencies."
   ]
  },
  {
   "cell_type": "markdown",
   "metadata": {},
   "source": [
    "## Technical Comments\n",
    "Finally, this exercise suggested a few possible Druid improvements.\n",
    "\n",
    "### Schema Tab in Druid UI\n",
    "\n",
    "The most obvious suggestion is simply to add table schema information (such as that illustrated above) to the Druid UI. From the Datasources tab, I should be able to click on a table to see the metadata. (At present, clicking on a table simply filters the view to only show that one table.)\n",
    "\n",
    "### Long Column Compression\n",
    "\n",
    "Consider the columns `added`, `deleted` and `delta` in the table above. Each represents the number of lines(?) changed by an edit. Such numbers will tend to skew quite small. Yet, according to the table above, Druid dedicates 8 bytes per row for these values: the full length of a `long`.\n",
    "\n",
    "As it turns out, [Protobuf](https://developers.google.com/protocol-buffers/docs/encoding) provides functions that compresses integers down to the number of bits actually needed, which can be very useful in an columnar encoding.\n",
    "[Parquet](https://github.com/apache/parquet-format/blob/master/Encodings.md) does something similar.\n",
    "\n",
    "Our example table has only three `long` fields, so the savings here would not be large, perhaps 18 bytes per row (or 10%). However, in a heavily-numeric row, the savings could be substantial.\n",
    "\n",
    "### Boolean Columns\n",
    "\n",
    "Consider the various Boolean (true/false) values in the Wikipedia dataset, such as `isAnonymous`. Each takes about 4 bytes per row to store. The data load was naive: it used the default parsing which treated the fields as strings with values \"true\" and \"false\". One observation is that, if a string column has low cardinality, we don't need four bytes to store the dictionary location. Specifically, the dictionary index could be encoded as suggested above for `long` values.\n",
    "\n",
    "Since these are Boolean columns, and SQL has support for Boolean types such as `if(isAnonymous, ...)` or `ISTRUE(isAnonymous)`, it would be handy to have a Boolean type. Since the cardinality of  Boolean type is 2, each column would require just one bit. Or, if it is more convenient to use a byte, then Protobuf or Parquet-style compression would reduce that bit down to a bit (or less, for repeated values) per column.\n",
    "\n",
    "In the example table above, we have five Boolean columns, so the savings would be around 15 bytes per row, or 8% of the row size. (Or 11%, once we remove the wasteful `comment` column.) This savings could be interesting, without the user having to play any tricks.\n",
    "\n",
    "### Rationalize Metadata REST Calls\n",
    "\n",
    "Creating this Notebook as a bit more painful than seemed necessary. It would certainly have been helpful to have a complete Python client, but it is not hard to knock one out. Rather, the most painful aspect was that many of Druild's [metadata APIs](https://druid.apache.org/docs/0.20.0/operations/api-reference.html#metadata-store-information) (also [here](https://druid.apache.org/docs/0.20.0/operations/api-reference.html#datasource-information) and [here](https://druid.apache.org/docs/0.20.0/operations/api-reference.html#get-22), among others) either don't work at all, or don't do what the docs say. Some amount of fumbling around was needed to find a set that gave the desired data (though no one API provides the whole picture.) Clearly there has been some volution over time in what the APIs do. It would be very helpful to users to mark the APIs which are obsolete and to instead point the user to the preferred methods."
   ]
  }
 ],
 "metadata": {
  "kernelspec": {
   "display_name": "Python 3 (ipykernel)",
   "language": "python",
   "name": "python3"
  },
  "language_info": {
   "codemirror_mode": {
    "name": "ipython",
    "version": 3
   },
   "file_extension": ".py",
   "mimetype": "text/x-python",
   "name": "python",
   "nbconvert_exporter": "python",
   "pygments_lexer": "ipython3",
   "version": "3.8.10"
  }
 },
 "nbformat": 4,
 "nbformat_minor": 4
}
