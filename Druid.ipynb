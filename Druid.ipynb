{
 "cells": [
  {
   "cell_type": "code",
   "execution_count": 333,
   "metadata": {},
   "outputs": [],
   "source": [
    "import api\n",
    "import importlib\n",
    "import report\n",
    "import model"
   ]
  },
  {
   "cell_type": "code",
   "execution_count": 564,
   "metadata": {},
   "outputs": [
    {
     "data": {
      "text/plain": [
       "<module 'api' from '/home/paul/git/druid-api/api.py'>"
      ]
     },
     "execution_count": 564,
     "metadata": {},
     "output_type": "execute_result"
    }
   ],
   "source": [
    "importlib.reload(api)"
   ]
  },
  {
   "cell_type": "code",
   "execution_count": 565,
   "metadata": {},
   "outputs": [],
   "source": [
    "c = api.default_local_docker_config(8899)\n",
    "#c.add_host(\"localhost\", 8899)\n",
    "d = api.Druid(c)"
   ]
  },
  {
   "cell_type": "code",
   "execution_count": 313,
   "metadata": {},
   "outputs": [
    {
     "data": {
      "text/plain": [
       "{'host_name': '172.18.0.4',\n",
       " 'port': 8081,\n",
       " 'endpoint': '172.18.0.4:8081',\n",
       " 'roles': ['coordinator', 'overlord'],\n",
       " 'protocol': 'http:',\n",
       " 'private_host': '172.18.0.4',\n",
       " 'private_port': 8081,\n",
       " 'private_endpoint': '172.18.0.4:8081',\n",
       " 'tier': None,\n",
       " 'prefix': None}"
      ]
     },
     "execution_count": 313,
     "metadata": {},
     "output_type": "execute_result"
    }
   ],
   "source": [
    "ncs = [nc for nc in d.node_configs.values()]\n",
    "nc = ncs[0]\n",
    "vars(nc)"
   ]
  },
  {
   "cell_type": "code",
   "execution_count": 309,
   "metadata": {},
   "outputs": [
    {
     "data": {
      "text/plain": [
       "<api.NodeConfig at 0x7f756c1b4d90>"
      ]
     },
     "execution_count": 309,
     "metadata": {},
     "output_type": "execute_result"
    }
   ],
   "source": [
    "d.config_for_service(api.NodeConfig.COORDINATOR)"
   ]
  },
  {
   "cell_type": "code",
   "execution_count": 282,
   "metadata": {},
   "outputs": [
    {
     "name": "stdout",
     "output_type": "stream",
     "text": [
      "body: {'query': '\\n          SELECT\\n\\n            \"server\", \"server_type\", \"tier\", \"host\", \"plaintext_port\",\\n            \"tls_port\", \"curr_size\", \"max_size\"\\n          FROM sys.servers   \\n        '}\n",
      "http://localhost:8899/druid/v2/sql\n"
     ]
    },
    {
     "data": {
      "text/plain": [
       "[{'server': '172.18.0.4:8081',\n",
       "  'server_type': 'coordinator',\n",
       "  'tier': None,\n",
       "  'host': '172.18.0.4',\n",
       "  'plaintext_port': 8081,\n",
       "  'tls_port': -1,\n",
       "  'curr_size': 0,\n",
       "  'max_size': 0},\n",
       " {'server': '172.18.0.7:8083',\n",
       "  'server_type': 'historical',\n",
       "  'tier': '_default_tier',\n",
       "  'host': '172.18.0.7',\n",
       "  'plaintext_port': 8083,\n",
       "  'tls_port': -1,\n",
       "  'curr_size': 13254186,\n",
       "  'max_size': 300000000000},\n",
       " {'server': '172.18.0.5:8082',\n",
       "  'server_type': 'broker',\n",
       "  'tier': None,\n",
       "  'host': '172.18.0.5',\n",
       "  'plaintext_port': 8082,\n",
       "  'tls_port': -1,\n",
       "  'curr_size': 0,\n",
       "  'max_size': 0},\n",
       " {'server': '172.18.0.4:8081',\n",
       "  'server_type': 'overlord',\n",
       "  'tier': None,\n",
       "  'host': '172.18.0.4',\n",
       "  'plaintext_port': 8081,\n",
       "  'tls_port': -1,\n",
       "  'curr_size': 0,\n",
       "  'max_size': 0},\n",
       " {'server': '172.18.0.8:8888',\n",
       "  'server_type': 'router',\n",
       "  'tier': None,\n",
       "  'host': '172.18.0.8',\n",
       "  'plaintext_port': 8888,\n",
       "  'tls_port': -1,\n",
       "  'curr_size': 0,\n",
       "  'max_size': 0},\n",
       " {'server': '172.18.0.6:8091',\n",
       "  'server_type': 'middle_manager',\n",
       "  'tier': None,\n",
       "  'host': '172.18.0.6',\n",
       "  'plaintext_port': 8091,\n",
       "  'tls_port': -1,\n",
       "  'curr_size': 0,\n",
       "  'max_size': 0}]"
      ]
     },
     "execution_count": 282,
     "metadata": {},
     "output_type": "execute_result"
    }
   ],
   "source": [
    "d.servers()"
   ]
  },
  {
   "cell_type": "code",
   "execution_count": 314,
   "metadata": {
    "scrolled": true
   },
   "outputs": [
    {
     "name": "stdout",
     "output_type": "stream",
     "text": [
      "http://172.18.0.4:8081/druid/coordinator/v1/isLeader\n"
     ]
    }
   ],
   "source": [
    "lu = d.lookups()"
   ]
  },
  {
   "cell_type": "code",
   "execution_count": 315,
   "metadata": {},
   "outputs": [
    {
     "name": "stdout",
     "output_type": "stream",
     "text": [
      "http://172.18.0.4:8081/druid/coordinator/v1/lookups/config/all\n"
     ]
    },
    {
     "data": {
      "text/plain": [
       "{}"
      ]
     },
     "execution_count": 315,
     "metadata": {},
     "output_type": "execute_result"
    }
   ],
   "source": [
    "lu.all_lookups()"
   ]
  },
  {
   "cell_type": "code",
   "execution_count": 316,
   "metadata": {},
   "outputs": [
    {
     "name": "stdout",
     "output_type": "stream",
     "text": [
      "http://172.18.0.4:8081/druid/coordinator/v1/lookups/config\n"
     ]
    },
    {
     "data": {
      "text/plain": [
       "[]"
      ]
     },
     "execution_count": 316,
     "metadata": {},
     "output_type": "execute_result"
    }
   ],
   "source": [
    "lu.tiers()"
   ]
  },
  {
   "cell_type": "code",
   "execution_count": 203,
   "metadata": {},
   "outputs": [
    {
     "name": "stdout",
     "output_type": "stream",
     "text": [
      "http://localhost:8081/druid/coordinator/v1/lookups/config/_default_tier\n"
     ]
    },
    {
     "ename": "NotFoundError",
     "evalue": "tier = _default_tier",
     "output_type": "error",
     "traceback": [
      "\u001b[0;31m---------------------------------------------------------------------------\u001b[0m",
      "\u001b[0;31mRestError\u001b[0m                                 Traceback (most recent call last)",
      "\u001b[0;32m~/git/druid-api/api.py\u001b[0m in \u001b[0;36mlookups_for_tier\u001b[0;34m(self, tier)\u001b[0m\n\u001b[1;32m    788\u001b[0m         \u001b[0;32mtry\u001b[0m\u001b[0;34m:\u001b[0m\u001b[0;34m\u001b[0m\u001b[0;34m\u001b[0m\u001b[0m\n\u001b[0;32m--> 789\u001b[0;31m             \u001b[0mr\u001b[0m \u001b[0;34m=\u001b[0m \u001b[0mself\u001b[0m\u001b[0;34m.\u001b[0m\u001b[0mnode\u001b[0m\u001b[0;34m.\u001b[0m\u001b[0mget\u001b[0m\u001b[0;34m(\u001b[0m\u001b[0mself\u001b[0m\u001b[0;34m.\u001b[0m\u001b[0mnode\u001b[0m\u001b[0;34m.\u001b[0m\u001b[0murl\u001b[0m\u001b[0;34m(\u001b[0m\u001b[0mREQ_LU_TIER_CONFIG\u001b[0m\u001b[0;34m,\u001b[0m \u001b[0;34m[\u001b[0m\u001b[0mtier\u001b[0m\u001b[0;34m]\u001b[0m\u001b[0;34m)\u001b[0m\u001b[0;34m)\u001b[0m\u001b[0;34m\u001b[0m\u001b[0;34m\u001b[0m\u001b[0m\n\u001b[0m\u001b[1;32m    790\u001b[0m             \u001b[0;32mreturn\u001b[0m \u001b[0mr\u001b[0m\u001b[0;34m.\u001b[0m\u001b[0mjson\u001b[0m\u001b[0;34m(\u001b[0m\u001b[0;34m)\u001b[0m\u001b[0;34m\u001b[0m\u001b[0;34m\u001b[0m\u001b[0m\n",
      "\u001b[0;32m~/git/druid-api/api.py\u001b[0m in \u001b[0;36mget\u001b[0;34m(self, url, params)\u001b[0m\n\u001b[1;32m    880\u001b[0m         \u001b[0;32mif\u001b[0m \u001b[0mr\u001b[0m\u001b[0;34m.\u001b[0m\u001b[0mstatus_code\u001b[0m \u001b[0;34m!=\u001b[0m \u001b[0mrequests\u001b[0m\u001b[0;34m.\u001b[0m\u001b[0mcodes\u001b[0m\u001b[0;34m.\u001b[0m\u001b[0mok\u001b[0m\u001b[0;34m:\u001b[0m\u001b[0;34m\u001b[0m\u001b[0;34m\u001b[0m\u001b[0m\n\u001b[0;32m--> 881\u001b[0;31m             \u001b[0;32mraise\u001b[0m \u001b[0mRestError\u001b[0m\u001b[0;34m(\u001b[0m\u001b[0;34m\"Request failed\"\u001b[0m\u001b[0;34m,\u001b[0m \u001b[0mr\u001b[0m\u001b[0;34m.\u001b[0m\u001b[0murl\u001b[0m\u001b[0;34m,\u001b[0m \u001b[0mr\u001b[0m\u001b[0;34m.\u001b[0m\u001b[0mstatus_code\u001b[0m\u001b[0;34m)\u001b[0m\u001b[0;34m\u001b[0m\u001b[0;34m\u001b[0m\u001b[0m\n\u001b[0m\u001b[1;32m    882\u001b[0m         \u001b[0;32mreturn\u001b[0m \u001b[0mr\u001b[0m\u001b[0;34m\u001b[0m\u001b[0;34m\u001b[0m\u001b[0m\n",
      "\u001b[0;31mRestError\u001b[0m: ('Request failed', 'http://localhost:8081/druid/coordinator/v1/lookups/config/_default_tier', 404)",
      "\nDuring handling of the above exception, another exception occurred:\n",
      "\u001b[0;31mNotFoundError\u001b[0m                             Traceback (most recent call last)",
      "\u001b[0;32m/tmp/ipykernel_62643/3189222654.py\u001b[0m in \u001b[0;36m<module>\u001b[0;34m\u001b[0m\n\u001b[0;32m----> 1\u001b[0;31m \u001b[0mlu\u001b[0m\u001b[0;34m.\u001b[0m\u001b[0mlookups_for_tier\u001b[0m\u001b[0;34m(\u001b[0m\u001b[0mapi\u001b[0m\u001b[0;34m.\u001b[0m\u001b[0mDEFAULT_TIER\u001b[0m\u001b[0;34m)\u001b[0m\u001b[0;34m\u001b[0m\u001b[0;34m\u001b[0m\u001b[0m\n\u001b[0m",
      "\u001b[0;32m~/git/druid-api/api.py\u001b[0m in \u001b[0;36mlookups_for_tier\u001b[0;34m(self, tier)\u001b[0m\n\u001b[1;32m    790\u001b[0m             \u001b[0;32mreturn\u001b[0m \u001b[0mr\u001b[0m\u001b[0;34m.\u001b[0m\u001b[0mjson\u001b[0m\u001b[0;34m(\u001b[0m\u001b[0;34m)\u001b[0m\u001b[0;34m\u001b[0m\u001b[0;34m\u001b[0m\u001b[0m\n\u001b[1;32m    791\u001b[0m         \u001b[0;32mexcept\u001b[0m \u001b[0mRestError\u001b[0m \u001b[0;32mas\u001b[0m \u001b[0me\u001b[0m\u001b[0;34m:\u001b[0m\u001b[0;34m\u001b[0m\u001b[0;34m\u001b[0m\u001b[0m\n\u001b[0;32m--> 792\u001b[0;31m             \u001b[0;32mraise\u001b[0m \u001b[0mNotFoundError\u001b[0m\u001b[0;34m(\u001b[0m\u001b[0;34m\"tier = \"\u001b[0m \u001b[0;34m+\u001b[0m \u001b[0mtier\u001b[0m\u001b[0;34m)\u001b[0m\u001b[0;34m\u001b[0m\u001b[0;34m\u001b[0m\u001b[0m\n\u001b[0m\u001b[1;32m    793\u001b[0m \u001b[0;34m\u001b[0m\u001b[0m\n\u001b[1;32m    794\u001b[0m     \u001b[0;32mdef\u001b[0m \u001b[0mlookup\u001b[0m\u001b[0;34m(\u001b[0m\u001b[0mself\u001b[0m\u001b[0;34m,\u001b[0m \u001b[0mtier\u001b[0m\u001b[0;34m,\u001b[0m \u001b[0mid\u001b[0m\u001b[0;34m)\u001b[0m\u001b[0;34m:\u001b[0m\u001b[0;34m\u001b[0m\u001b[0;34m\u001b[0m\u001b[0m\n",
      "\u001b[0;31mNotFoundError\u001b[0m: tier = _default_tier"
     ]
    }
   ],
   "source": [
    "lu.lookups_for_tier(api.DEFAULT_TIER)"
   ]
  },
  {
   "cell_type": "code",
   "execution_count": 198,
   "metadata": {},
   "outputs": [
    {
     "name": "stdout",
     "output_type": "stream",
     "text": [
      "http://localhost:8081/druid/coordinator/v1/lookups/config/__default/foo\n"
     ]
    },
    {
     "ename": "NotFoundError",
     "evalue": "tier = __default, lookup id = foo",
     "output_type": "error",
     "traceback": [
      "\u001b[0;31m---------------------------------------------------------------------------\u001b[0m",
      "\u001b[0;31mRestError\u001b[0m                                 Traceback (most recent call last)",
      "\u001b[0;32m~/git/druid-api/api.py\u001b[0m in \u001b[0;36mlookup\u001b[0;34m(self, tier, id)\u001b[0m\n\u001b[1;32m    807\u001b[0m         \u001b[0;32mtry\u001b[0m\u001b[0;34m:\u001b[0m\u001b[0;34m\u001b[0m\u001b[0;34m\u001b[0m\u001b[0m\n\u001b[0;32m--> 808\u001b[0;31m             \u001b[0mr\u001b[0m \u001b[0;34m=\u001b[0m \u001b[0mself\u001b[0m\u001b[0;34m.\u001b[0m\u001b[0mnode\u001b[0m\u001b[0;34m.\u001b[0m\u001b[0mget\u001b[0m\u001b[0;34m(\u001b[0m\u001b[0mself\u001b[0m\u001b[0;34m.\u001b[0m\u001b[0mnode\u001b[0m\u001b[0;34m.\u001b[0m\u001b[0murl\u001b[0m\u001b[0;34m(\u001b[0m\u001b[0mREQ_LU_LOOKUP_CONFIG\u001b[0m\u001b[0;34m,\u001b[0m \u001b[0;34m[\u001b[0m\u001b[0mtier\u001b[0m\u001b[0;34m,\u001b[0m \u001b[0mid\u001b[0m\u001b[0;34m]\u001b[0m\u001b[0;34m)\u001b[0m\u001b[0;34m)\u001b[0m\u001b[0;34m\u001b[0m\u001b[0;34m\u001b[0m\u001b[0m\n\u001b[0m\u001b[1;32m    809\u001b[0m             \u001b[0;32mreturn\u001b[0m \u001b[0mr\u001b[0m\u001b[0;34m.\u001b[0m\u001b[0mjson\u001b[0m\u001b[0;34m(\u001b[0m\u001b[0;34m)\u001b[0m\u001b[0;34m\u001b[0m\u001b[0;34m\u001b[0m\u001b[0m\n",
      "\u001b[0;32m~/git/druid-api/api.py\u001b[0m in \u001b[0;36mget\u001b[0;34m(self, url, params)\u001b[0m\n\u001b[1;32m    880\u001b[0m         \u001b[0;32mif\u001b[0m \u001b[0mr\u001b[0m\u001b[0;34m.\u001b[0m\u001b[0mstatus_code\u001b[0m \u001b[0;34m!=\u001b[0m \u001b[0mrequests\u001b[0m\u001b[0;34m.\u001b[0m\u001b[0mcodes\u001b[0m\u001b[0;34m.\u001b[0m\u001b[0mok\u001b[0m\u001b[0;34m:\u001b[0m\u001b[0;34m\u001b[0m\u001b[0;34m\u001b[0m\u001b[0m\n\u001b[0;32m--> 881\u001b[0;31m             \u001b[0;32mraise\u001b[0m \u001b[0mRestError\u001b[0m\u001b[0;34m(\u001b[0m\u001b[0;34m\"Request failed\"\u001b[0m\u001b[0;34m,\u001b[0m \u001b[0mr\u001b[0m\u001b[0;34m.\u001b[0m\u001b[0murl\u001b[0m\u001b[0;34m,\u001b[0m \u001b[0mr\u001b[0m\u001b[0;34m.\u001b[0m\u001b[0mstatus_code\u001b[0m\u001b[0;34m)\u001b[0m\u001b[0;34m\u001b[0m\u001b[0;34m\u001b[0m\u001b[0m\n\u001b[0m\u001b[1;32m    882\u001b[0m         \u001b[0;32mreturn\u001b[0m \u001b[0mr\u001b[0m\u001b[0;34m\u001b[0m\u001b[0;34m\u001b[0m\u001b[0m\n",
      "\u001b[0;31mRestError\u001b[0m: ('Request failed', 'http://localhost:8081/druid/coordinator/v1/lookups/config/__default/foo', 404)",
      "\nDuring handling of the above exception, another exception occurred:\n",
      "\u001b[0;31mNotFoundError\u001b[0m                             Traceback (most recent call last)",
      "\u001b[0;32m/tmp/ipykernel_62643/579408896.py\u001b[0m in \u001b[0;36m<module>\u001b[0;34m\u001b[0m\n\u001b[0;32m----> 1\u001b[0;31m \u001b[0mlu\u001b[0m\u001b[0;34m.\u001b[0m\u001b[0mlookup\u001b[0m\u001b[0;34m(\u001b[0m\u001b[0mapi\u001b[0m\u001b[0;34m.\u001b[0m\u001b[0mDEFAULT_TIER\u001b[0m\u001b[0;34m,\u001b[0m \u001b[0;34m\"foo\"\u001b[0m\u001b[0;34m)\u001b[0m\u001b[0;34m\u001b[0m\u001b[0;34m\u001b[0m\u001b[0m\n\u001b[0m",
      "\u001b[0;32m~/git/druid-api/api.py\u001b[0m in \u001b[0;36mlookup\u001b[0;34m(self, tier, id)\u001b[0m\n\u001b[1;32m    809\u001b[0m             \u001b[0;32mreturn\u001b[0m \u001b[0mr\u001b[0m\u001b[0;34m.\u001b[0m\u001b[0mjson\u001b[0m\u001b[0;34m(\u001b[0m\u001b[0;34m)\u001b[0m\u001b[0;34m\u001b[0m\u001b[0;34m\u001b[0m\u001b[0m\n\u001b[1;32m    810\u001b[0m         \u001b[0;32mexcept\u001b[0m \u001b[0mRestError\u001b[0m \u001b[0;32mas\u001b[0m \u001b[0me\u001b[0m\u001b[0;34m:\u001b[0m\u001b[0;34m\u001b[0m\u001b[0;34m\u001b[0m\u001b[0m\n\u001b[0;32m--> 811\u001b[0;31m             \u001b[0;32mraise\u001b[0m \u001b[0mNotFoundError\u001b[0m\u001b[0;34m(\u001b[0m\u001b[0;34m\"tier = {}, lookup id = {}\"\u001b[0m\u001b[0;34m.\u001b[0m\u001b[0mformat\u001b[0m\u001b[0;34m(\u001b[0m\u001b[0mtier\u001b[0m\u001b[0;34m,\u001b[0m \u001b[0mid\u001b[0m\u001b[0;34m)\u001b[0m\u001b[0;34m)\u001b[0m\u001b[0;34m\u001b[0m\u001b[0;34m\u001b[0m\u001b[0m\n\u001b[0m\u001b[1;32m    812\u001b[0m \u001b[0;34m\u001b[0m\u001b[0m\n\u001b[1;32m    813\u001b[0m     \u001b[0;32mdef\u001b[0m \u001b[0mupdate\u001b[0m\u001b[0;34m(\u001b[0m\u001b[0mself\u001b[0m\u001b[0;34m,\u001b[0m \u001b[0mtier\u001b[0m\u001b[0;34m,\u001b[0m \u001b[0mid\u001b[0m\u001b[0;34m,\u001b[0m \u001b[0mdefn\u001b[0m\u001b[0;34m)\u001b[0m\u001b[0;34m:\u001b[0m\u001b[0;34m\u001b[0m\u001b[0;34m\u001b[0m\u001b[0m\n",
      "\u001b[0;31mNotFoundError\u001b[0m: tier = __default, lookup id = foo"
     ]
    }
   ],
   "source": [
    "lu.lookup(api.DEFAULT_TIER, \"foo\")"
   ]
  },
  {
   "cell_type": "code",
   "execution_count": 162,
   "metadata": {},
   "outputs": [
    {
     "name": "stdout",
     "output_type": "stream",
     "text": [
      "http://localhost:8081/druid/coordinator/v1/lookups/config\n"
     ]
    }
   ],
   "source": [
    "lu.initialize()"
   ]
  },
  {
   "cell_type": "code",
   "execution_count": 165,
   "metadata": {},
   "outputs": [
    {
     "data": {
      "text/plain": [
       "{'version': '1',\n",
       " 'lookupExtractorFactory': {'type': 'map',\n",
       "  'injective': False,\n",
       "  'map': {'true': '1', 'false': '0'}}}"
      ]
     },
     "execution_count": 165,
     "metadata": {},
     "output_type": "execute_result"
    }
   ],
   "source": [
    "tlu = api.map_lookup(\"1\", {\"true\": \"1\", \"false\" : \"0\"})\n",
    "tlu"
   ]
  },
  {
   "cell_type": "code",
   "execution_count": 204,
   "metadata": {},
   "outputs": [
    {
     "name": "stdout",
     "output_type": "stream",
     "text": [
      "body: {'version': '1', 'lookupExtractorFactory': {'type': 'map', 'injective': False, 'map': {'true': '1', 'false': '0'}}}\n",
      "http://localhost:8081/druid/coordinator/v1/lookups/config/_default_tier\n",
      "\n"
     ]
    },
    {
     "ename": "RestError",
     "evalue": "('Request failed', 'http://localhost:8081/druid/coordinator/v1/lookups/config/_default_tier', 405)",
     "output_type": "error",
     "traceback": [
      "\u001b[0;31m---------------------------------------------------------------------------\u001b[0m",
      "\u001b[0;31mRestError\u001b[0m                                 Traceback (most recent call last)",
      "\u001b[0;32m/tmp/ipykernel_62643/2283961677.py\u001b[0m in \u001b[0;36m<module>\u001b[0;34m\u001b[0m\n\u001b[0;32m----> 1\u001b[0;31m \u001b[0mlu\u001b[0m\u001b[0;34m.\u001b[0m\u001b[0mupdate\u001b[0m\u001b[0;34m(\u001b[0m\u001b[0mapi\u001b[0m\u001b[0;34m.\u001b[0m\u001b[0mDEFAULT_TIER\u001b[0m\u001b[0;34m,\u001b[0m \u001b[0;34m\"test\"\u001b[0m\u001b[0;34m,\u001b[0m \u001b[0mtlu\u001b[0m\u001b[0;34m)\u001b[0m\u001b[0;34m\u001b[0m\u001b[0;34m\u001b[0m\u001b[0m\n\u001b[0m",
      "\u001b[0;32m~/git/druid-api/api.py\u001b[0m in \u001b[0;36mupdate\u001b[0;34m(self, tier, id, defn)\u001b[0m\n\u001b[1;32m    825\u001b[0m             \u001b[0mJSON\u001b[0m \u001b[0minternally\u001b[0m\u001b[0;34m.\u001b[0m\u001b[0;34m\u001b[0m\u001b[0;34m\u001b[0m\u001b[0m\n\u001b[1;32m    826\u001b[0m         \"\"\"\n\u001b[0;32m--> 827\u001b[0;31m         \u001b[0mself\u001b[0m\u001b[0;34m.\u001b[0m\u001b[0mnode\u001b[0m\u001b[0;34m.\u001b[0m\u001b[0mpost\u001b[0m\u001b[0;34m(\u001b[0m\u001b[0mself\u001b[0m\u001b[0;34m.\u001b[0m\u001b[0mnode\u001b[0m\u001b[0;34m.\u001b[0m\u001b[0murl\u001b[0m\u001b[0;34m(\u001b[0m\u001b[0mREQ_LU_TIER_CONFIG\u001b[0m\u001b[0;34m,\u001b[0m \u001b[0;34m[\u001b[0m\u001b[0mtier\u001b[0m\u001b[0;34m]\u001b[0m\u001b[0;34m)\u001b[0m\u001b[0;34m,\u001b[0m \u001b[0mdefn\u001b[0m\u001b[0;34m)\u001b[0m\u001b[0;34m\u001b[0m\u001b[0;34m\u001b[0m\u001b[0m\n\u001b[0m\u001b[1;32m    828\u001b[0m \u001b[0;34m\u001b[0m\u001b[0m\n\u001b[1;32m    829\u001b[0m \u001b[0;32mclass\u001b[0m \u001b[0mNode\u001b[0m\u001b[0;34m:\u001b[0m\u001b[0;34m\u001b[0m\u001b[0;34m\u001b[0m\u001b[0m\n",
      "\u001b[0;32m~/git/druid-api/api.py\u001b[0m in \u001b[0;36mpost\u001b[0;34m(self, url, body, params)\u001b[0m\n\u001b[1;32m    893\u001b[0m         \u001b[0;32mif\u001b[0m \u001b[0mr\u001b[0m\u001b[0;34m.\u001b[0m\u001b[0mstatus_code\u001b[0m \u001b[0;34m!=\u001b[0m \u001b[0mrequests\u001b[0m\u001b[0;34m.\u001b[0m\u001b[0mcodes\u001b[0m\u001b[0;34m.\u001b[0m\u001b[0mok\u001b[0m \u001b[0;32mand\u001b[0m \u001b[0mr\u001b[0m\u001b[0;34m.\u001b[0m\u001b[0mstatus_code\u001b[0m \u001b[0;34m!=\u001b[0m \u001b[0mrequests\u001b[0m\u001b[0;34m.\u001b[0m\u001b[0mcodes\u001b[0m\u001b[0;34m.\u001b[0m\u001b[0maccepted\u001b[0m\u001b[0;34m:\u001b[0m\u001b[0;34m\u001b[0m\u001b[0;34m\u001b[0m\u001b[0m\n\u001b[1;32m    894\u001b[0m             \u001b[0mprint\u001b[0m\u001b[0;34m(\u001b[0m\u001b[0mr\u001b[0m\u001b[0;34m.\u001b[0m\u001b[0mtext\u001b[0m\u001b[0;34m)\u001b[0m\u001b[0;34m\u001b[0m\u001b[0;34m\u001b[0m\u001b[0m\n\u001b[0;32m--> 895\u001b[0;31m             \u001b[0;32mraise\u001b[0m \u001b[0mRestError\u001b[0m\u001b[0;34m(\u001b[0m\u001b[0;34m\"Request failed\"\u001b[0m\u001b[0;34m,\u001b[0m \u001b[0mr\u001b[0m\u001b[0;34m.\u001b[0m\u001b[0murl\u001b[0m\u001b[0;34m,\u001b[0m \u001b[0mr\u001b[0m\u001b[0;34m.\u001b[0m\u001b[0mstatus_code\u001b[0m\u001b[0;34m)\u001b[0m\u001b[0;34m\u001b[0m\u001b[0;34m\u001b[0m\u001b[0m\n\u001b[0m\u001b[1;32m    896\u001b[0m         \u001b[0;32mreturn\u001b[0m \u001b[0mr\u001b[0m\u001b[0;34m\u001b[0m\u001b[0;34m\u001b[0m\u001b[0m\n\u001b[1;32m    897\u001b[0m \u001b[0;34m\u001b[0m\u001b[0m\n",
      "\u001b[0;31mRestError\u001b[0m: ('Request failed', 'http://localhost:8081/druid/coordinator/v1/lookups/config/_default_tier', 405)"
     ]
    }
   ],
   "source": [
    "lu.update(api.DEFAULT_TIER, \"test\", tlu)"
   ]
  },
  {
   "cell_type": "code",
   "execution_count": 208,
   "metadata": {},
   "outputs": [
    {
     "name": "stdout",
     "output_type": "stream",
     "text": [
      "http://localhost:8081/druid/coordinator/v1/isLeader\n"
     ]
    }
   ],
   "source": [
    "h = d.lead_coordinator()"
   ]
  },
  {
   "cell_type": "code",
   "execution_count": 209,
   "metadata": {},
   "outputs": [
    {
     "name": "stdout",
     "output_type": "stream",
     "text": [
      "http://localhost:8081/druid/coordinator/v1/servers\n"
     ]
    },
    {
     "data": {
      "text/plain": [
       "['172.18.0.7:8083']"
      ]
     },
     "execution_count": 209,
     "metadata": {},
     "output_type": "execute_result"
    }
   ],
   "source": [
    "h.servers()"
   ]
  },
  {
   "cell_type": "code",
   "execution_count": 193,
   "metadata": {},
   "outputs": [
    {
     "name": "stdout",
     "output_type": "stream",
     "text": [
      "http://localhost:8081/druid/coordinator/v1/servers\n"
     ]
    },
    {
     "data": {
      "text/plain": [
       "['172.18.0.7:8083']"
      ]
     },
     "execution_count": 193,
     "metadata": {},
     "output_type": "execute_result"
    }
   ],
   "source": [
    "h.servers()"
   ]
  },
  {
   "cell_type": "code",
   "execution_count": 194,
   "metadata": {},
   "outputs": [
    {
     "name": "stdout",
     "output_type": "stream",
     "text": [
      "http://localhost:8081/druid/coordinator/v1/servers?simple=\n"
     ]
    },
    {
     "data": {
      "text/plain": [
       "[{'host': '172.18.0.7:8083',\n",
       "  'tier': '_default_tier',\n",
       "  'type': 'historical',\n",
       "  'priority': 0,\n",
       "  'currSize': 13254186,\n",
       "  'maxSize': 300000000000}]"
      ]
     },
     "execution_count": 194,
     "metadata": {},
     "output_type": "execute_result"
    }
   ],
   "source": [
    "h.server_details()"
   ]
  },
  {
   "cell_type": "code",
   "execution_count": 93,
   "metadata": {},
   "outputs": [
    {
     "name": "stdout",
     "output_type": "stream",
     "text": [
      "http://localhost:8081/druid/coordinator/v1/isLeader\n"
     ]
    }
   ],
   "source": [
    "ds = d.datasource('wikiticker-2015-09-12-sampled')"
   ]
  },
  {
   "cell_type": "code",
   "execution_count": 88,
   "metadata": {},
   "outputs": [
    {
     "name": "stdout",
     "output_type": "stream",
     "text": [
      "broker\n",
      "http://localhost:8082/druid/broker/v1/loadstatus\n"
     ]
    },
    {
     "data": {
      "text/plain": [
       "True"
      ]
     },
     "execution_count": 88,
     "metadata": {},
     "output_type": "execute_result"
    }
   ],
   "source": [
    "b = d.broker()\n",
    "b.is_ready()"
   ]
  },
  {
   "cell_type": "code",
   "execution_count": 94,
   "metadata": {},
   "outputs": [
    {
     "name": "stdout",
     "output_type": "stream",
     "text": [
      "http://localhost:8082/druid/v2/datasources/wikiticker-2015-09-12-sampled?full=\n"
     ]
    },
    {
     "data": {
      "text/plain": [
       "{}"
      ]
     },
     "execution_count": 94,
     "metadata": {},
     "output_type": "execute_result"
    }
   ],
   "source": [
    "ds.full_schema()"
   ]
  },
  {
   "cell_type": "code",
   "execution_count": 120,
   "metadata": {},
   "outputs": [
    {
     "name": "stdout",
     "output_type": "stream",
     "text": [
      "http://localhost:8081/druid/coordinator/v1/metadata/datasources/wikiticker-2015-09-12-sampled\n"
     ]
    }
   ],
   "source": [
    "md = ds.metadata()"
   ]
  },
  {
   "cell_type": "code",
   "execution_count": 123,
   "metadata": {},
   "outputs": [
    {
     "data": {
      "text/plain": [
       "13139688"
      ]
     },
     "execution_count": 123,
     "metadata": {},
     "output_type": "execute_result"
    }
   ],
   "source": [
    "n\n",
    "for seg in md['segments']:\n",
    "    n += seg['size']\n",
    "n"
   ]
  },
  {
   "cell_type": "code",
   "execution_count": 332,
   "metadata": {},
   "outputs": [
    {
     "data": {
      "text/plain": [
       "{'name': 'wikiticker-2015-09-12-sampled',\n",
       " 'properties': {'created': '2021-07-28T23:34:05.964Z'},\n",
       " 'segments': [{'dataSource': 'wikiticker-2015-09-12-sampled',\n",
       "   'interval': '2015-09-12T00:00:00.000Z/2015-09-12T01:00:00.000Z',\n",
       "   'version': '2021-07-18T08:58:27.061Z',\n",
       "   'loadSpec': {'type': 'local',\n",
       "    'path': '/opt/shared/segments/wikiticker-2015-09-12-sampled/2015-09-12T00:00:00.000Z_2015-09-12T01:00:00.000Z/2021-07-18T08:58:27.061Z/0/index.zip'},\n",
       "   'dimensions': 'added,channel,cityName,comment,countryIsoCode,countryName,deleted,delta,isAnonymous,isMinor,isNew,isRobot,isUnpatrolled,metroCode,namespace,page,regionIsoCode,regionName,user',\n",
       "   'metrics': '',\n",
       "   'shardSpec': {'type': 'numbered', 'partitionNum': 0, 'partitions': 1},\n",
       "   'binaryVersion': 9,\n",
       "   'size': 55706,\n",
       "   'identifier': 'wikiticker-2015-09-12-sampled_2015-09-12T00:00:00.000Z_2015-09-12T01:00:00.000Z_2021-07-18T08:58:27.061Z'},\n",
       "  {'dataSource': 'wikiticker-2015-09-12-sampled',\n",
       "   'interval': '2015-09-12T01:00:00.000Z/2015-09-12T02:00:00.000Z',\n",
       "   'version': '2021-07-18T08:58:27.061Z',\n",
       "   'loadSpec': {'type': 'local',\n",
       "    'path': '/opt/shared/segments/wikiticker-2015-09-12-sampled/2015-09-12T01:00:00.000Z_2015-09-12T02:00:00.000Z/2021-07-18T08:58:27.061Z/0/index.zip'},\n",
       "   'dimensions': 'added,channel,cityName,comment,countryIsoCode,countryName,deleted,delta,isAnonymous,isMinor,isNew,isRobot,isUnpatrolled,metroCode,namespace,page,regionIsoCode,regionName,user',\n",
       "   'metrics': '',\n",
       "   'shardSpec': {'type': 'numbered', 'partitionNum': 0, 'partitions': 1},\n",
       "   'binaryVersion': 9,\n",
       "   'size': 203656,\n",
       "   'identifier': 'wikiticker-2015-09-12-sampled_2015-09-12T01:00:00.000Z_2015-09-12T02:00:00.000Z_2021-07-18T08:58:27.061Z'},\n",
       "  {'dataSource': 'wikiticker-2015-09-12-sampled',\n",
       "   'interval': '2015-09-12T02:00:00.000Z/2015-09-12T03:00:00.000Z',\n",
       "   'version': '2021-07-18T08:58:27.061Z',\n",
       "   'loadSpec': {'type': 'local',\n",
       "    'path': '/opt/shared/segments/wikiticker-2015-09-12-sampled/2015-09-12T02:00:00.000Z_2015-09-12T03:00:00.000Z/2021-07-18T08:58:27.061Z/0/index.zip'},\n",
       "   'dimensions': 'added,channel,cityName,comment,countryIsoCode,countryName,deleted,delta,isAnonymous,isMinor,isNew,isRobot,isUnpatrolled,metroCode,namespace,page,regionIsoCode,regionName,user',\n",
       "   'metrics': '',\n",
       "   'shardSpec': {'type': 'numbered', 'partitionNum': 0, 'partitions': 1},\n",
       "   'binaryVersion': 9,\n",
       "   'size': 203403,\n",
       "   'identifier': 'wikiticker-2015-09-12-sampled_2015-09-12T02:00:00.000Z_2015-09-12T03:00:00.000Z_2021-07-18T08:58:27.061Z'},\n",
       "  {'dataSource': 'wikiticker-2015-09-12-sampled',\n",
       "   'interval': '2015-09-12T03:00:00.000Z/2015-09-12T04:00:00.000Z',\n",
       "   'version': '2021-07-18T08:58:27.061Z',\n",
       "   'loadSpec': {'type': 'local',\n",
       "    'path': '/opt/shared/segments/wikiticker-2015-09-12-sampled/2015-09-12T03:00:00.000Z_2015-09-12T04:00:00.000Z/2021-07-18T08:58:27.061Z/0/index.zip'},\n",
       "   'dimensions': 'added,channel,cityName,comment,countryIsoCode,countryName,deleted,delta,isAnonymous,isMinor,isNew,isRobot,isUnpatrolled,metroCode,namespace,page,regionIsoCode,regionName,user',\n",
       "   'metrics': '',\n",
       "   'shardSpec': {'type': 'numbered', 'partitionNum': 0, 'partitions': 1},\n",
       "   'binaryVersion': 9,\n",
       "   'size': 168988,\n",
       "   'identifier': 'wikiticker-2015-09-12-sampled_2015-09-12T03:00:00.000Z_2015-09-12T04:00:00.000Z_2021-07-18T08:58:27.061Z'},\n",
       "  {'dataSource': 'wikiticker-2015-09-12-sampled',\n",
       "   'interval': '2015-09-12T04:00:00.000Z/2015-09-12T05:00:00.000Z',\n",
       "   'version': '2021-07-18T08:58:27.061Z',\n",
       "   'loadSpec': {'type': 'local',\n",
       "    'path': '/opt/shared/segments/wikiticker-2015-09-12-sampled/2015-09-12T04:00:00.000Z_2015-09-12T05:00:00.000Z/2021-07-18T08:58:27.061Z/0/index.zip'},\n",
       "   'dimensions': 'added,channel,cityName,comment,countryIsoCode,countryName,deleted,delta,isAnonymous,isMinor,isNew,isRobot,isUnpatrolled,metroCode,namespace,page,regionIsoCode,regionName,user',\n",
       "   'metrics': '',\n",
       "   'shardSpec': {'type': 'numbered', 'partitionNum': 0, 'partitions': 1},\n",
       "   'binaryVersion': 9,\n",
       "   'size': 166655,\n",
       "   'identifier': 'wikiticker-2015-09-12-sampled_2015-09-12T04:00:00.000Z_2015-09-12T05:00:00.000Z_2021-07-18T08:58:27.061Z'},\n",
       "  {'dataSource': 'wikiticker-2015-09-12-sampled',\n",
       "   'interval': '2015-09-12T05:00:00.000Z/2015-09-12T06:00:00.000Z',\n",
       "   'version': '2021-07-18T08:58:27.061Z',\n",
       "   'loadSpec': {'type': 'local',\n",
       "    'path': '/opt/shared/segments/wikiticker-2015-09-12-sampled/2015-09-12T05:00:00.000Z_2015-09-12T06:00:00.000Z/2021-07-18T08:58:27.061Z/0/index.zip'},\n",
       "   'dimensions': 'added,channel,cityName,comment,countryIsoCode,countryName,deleted,delta,isAnonymous,isMinor,isNew,isRobot,isUnpatrolled,metroCode,namespace,page,regionIsoCode,regionName,user',\n",
       "   'metrics': '',\n",
       "   'shardSpec': {'type': 'numbered', 'partitionNum': 0, 'partitions': 1},\n",
       "   'binaryVersion': 9,\n",
       "   'size': 199372,\n",
       "   'identifier': 'wikiticker-2015-09-12-sampled_2015-09-12T05:00:00.000Z_2015-09-12T06:00:00.000Z_2021-07-18T08:58:27.061Z'},\n",
       "  {'dataSource': 'wikiticker-2015-09-12-sampled',\n",
       "   'interval': '2015-09-12T06:00:00.000Z/2015-09-12T07:00:00.000Z',\n",
       "   'version': '2021-07-18T08:58:27.061Z',\n",
       "   'loadSpec': {'type': 'local',\n",
       "    'path': '/opt/shared/segments/wikiticker-2015-09-12-sampled/2015-09-12T06:00:00.000Z_2015-09-12T07:00:00.000Z/2021-07-18T08:58:27.061Z/0/index.zip'},\n",
       "   'dimensions': 'added,channel,cityName,comment,countryIsoCode,countryName,deleted,delta,isAnonymous,isMinor,isNew,isRobot,isUnpatrolled,metroCode,namespace,page,regionIsoCode,regionName,user',\n",
       "   'metrics': '',\n",
       "   'shardSpec': {'type': 'numbered', 'partitionNum': 0, 'partitions': 1},\n",
       "   'binaryVersion': 9,\n",
       "   'size': 266111,\n",
       "   'identifier': 'wikiticker-2015-09-12-sampled_2015-09-12T06:00:00.000Z_2015-09-12T07:00:00.000Z_2021-07-18T08:58:27.061Z'},\n",
       "  {'dataSource': 'wikiticker-2015-09-12-sampled',\n",
       "   'interval': '2015-09-12T07:00:00.000Z/2015-09-12T08:00:00.000Z',\n",
       "   'version': '2021-07-18T08:58:27.061Z',\n",
       "   'loadSpec': {'type': 'local',\n",
       "    'path': '/opt/shared/segments/wikiticker-2015-09-12-sampled/2015-09-12T07:00:00.000Z_2015-09-12T08:00:00.000Z/2021-07-18T08:58:27.061Z/0/index.zip'},\n",
       "   'dimensions': 'added,channel,cityName,comment,countryIsoCode,countryName,deleted,delta,isAnonymous,isMinor,isNew,isRobot,isUnpatrolled,metroCode,namespace,page,regionIsoCode,regionName,user',\n",
       "   'metrics': '',\n",
       "   'shardSpec': {'type': 'numbered', 'partitionNum': 0, 'partitions': 1},\n",
       "   'binaryVersion': 9,\n",
       "   'size': 302529,\n",
       "   'identifier': 'wikiticker-2015-09-12-sampled_2015-09-12T07:00:00.000Z_2015-09-12T08:00:00.000Z_2021-07-18T08:58:27.061Z'},\n",
       "  {'dataSource': 'wikiticker-2015-09-12-sampled',\n",
       "   'interval': '2015-09-12T08:00:00.000Z/2015-09-12T09:00:00.000Z',\n",
       "   'version': '2021-07-18T08:58:27.061Z',\n",
       "   'loadSpec': {'type': 'local',\n",
       "    'path': '/opt/shared/segments/wikiticker-2015-09-12-sampled/2015-09-12T08:00:00.000Z_2015-09-12T09:00:00.000Z/2021-07-18T08:58:27.061Z/0/index.zip'},\n",
       "   'dimensions': 'added,channel,cityName,comment,countryIsoCode,countryName,deleted,delta,isAnonymous,isMinor,isNew,isRobot,isUnpatrolled,metroCode,namespace,page,regionIsoCode,regionName,user',\n",
       "   'metrics': '',\n",
       "   'shardSpec': {'type': 'numbered', 'partitionNum': 0, 'partitions': 1},\n",
       "   'binaryVersion': 9,\n",
       "   'size': 275389,\n",
       "   'identifier': 'wikiticker-2015-09-12-sampled_2015-09-12T08:00:00.000Z_2015-09-12T09:00:00.000Z_2021-07-18T08:58:27.061Z'},\n",
       "  {'dataSource': 'wikiticker-2015-09-12-sampled',\n",
       "   'interval': '2015-09-12T09:00:00.000Z/2015-09-12T10:00:00.000Z',\n",
       "   'version': '2021-07-18T08:58:27.061Z',\n",
       "   'loadSpec': {'type': 'local',\n",
       "    'path': '/opt/shared/segments/wikiticker-2015-09-12-sampled/2015-09-12T09:00:00.000Z_2015-09-12T10:00:00.000Z/2021-07-18T08:58:27.061Z/0/index.zip'},\n",
       "   'dimensions': 'added,channel,cityName,comment,countryIsoCode,countryName,deleted,delta,isAnonymous,isMinor,isNew,isRobot,isUnpatrolled,metroCode,namespace,page,regionIsoCode,regionName,user',\n",
       "   'metrics': '',\n",
       "   'shardSpec': {'type': 'numbered', 'partitionNum': 0, 'partitions': 1},\n",
       "   'binaryVersion': 9,\n",
       "   'size': 293781,\n",
       "   'identifier': 'wikiticker-2015-09-12-sampled_2015-09-12T09:00:00.000Z_2015-09-12T10:00:00.000Z_2021-07-18T08:58:27.061Z'},\n",
       "  {'dataSource': 'wikiticker-2015-09-12-sampled',\n",
       "   'interval': '2015-09-12T10:00:00.000Z/2015-09-12T11:00:00.000Z',\n",
       "   'version': '2021-07-18T08:58:27.061Z',\n",
       "   'loadSpec': {'type': 'local',\n",
       "    'path': '/opt/shared/segments/wikiticker-2015-09-12-sampled/2015-09-12T10:00:00.000Z_2015-09-12T11:00:00.000Z/2021-07-18T08:58:27.061Z/0/index.zip'},\n",
       "   'dimensions': 'added,channel,cityName,comment,countryIsoCode,countryName,deleted,delta,isAnonymous,isMinor,isNew,isRobot,isUnpatrolled,metroCode,namespace,page,regionIsoCode,regionName,user',\n",
       "   'metrics': '',\n",
       "   'shardSpec': {'type': 'numbered', 'partitionNum': 0, 'partitions': 1},\n",
       "   'binaryVersion': 9,\n",
       "   'size': 307356,\n",
       "   'identifier': 'wikiticker-2015-09-12-sampled_2015-09-12T10:00:00.000Z_2015-09-12T11:00:00.000Z_2021-07-18T08:58:27.061Z'},\n",
       "  {'dataSource': 'wikiticker-2015-09-12-sampled',\n",
       "   'interval': '2015-09-12T11:00:00.000Z/2015-09-12T12:00:00.000Z',\n",
       "   'version': '2021-07-18T08:58:27.061Z',\n",
       "   'loadSpec': {'type': 'local',\n",
       "    'path': '/opt/shared/segments/wikiticker-2015-09-12-sampled/2015-09-12T11:00:00.000Z_2015-09-12T12:00:00.000Z/2021-07-18T08:58:27.061Z/0/index.zip'},\n",
       "   'dimensions': 'added,channel,cityName,comment,countryIsoCode,countryName,deleted,delta,isAnonymous,isMinor,isNew,isRobot,isUnpatrolled,metroCode,namespace,page,regionIsoCode,regionName,user',\n",
       "   'metrics': '',\n",
       "   'shardSpec': {'type': 'numbered', 'partitionNum': 0, 'partitions': 1},\n",
       "   'binaryVersion': 9,\n",
       "   'size': 298691,\n",
       "   'identifier': 'wikiticker-2015-09-12-sampled_2015-09-12T11:00:00.000Z_2015-09-12T12:00:00.000Z_2021-07-18T08:58:27.061Z'},\n",
       "  {'dataSource': 'wikiticker-2015-09-12-sampled',\n",
       "   'interval': '2015-09-12T12:00:00.000Z/2015-09-12T13:00:00.000Z',\n",
       "   'version': '2021-07-18T08:58:27.061Z',\n",
       "   'loadSpec': {'type': 'local',\n",
       "    'path': '/opt/shared/segments/wikiticker-2015-09-12-sampled/2015-09-12T12:00:00.000Z_2015-09-12T13:00:00.000Z/2021-07-18T08:58:27.061Z/0/index.zip'},\n",
       "   'dimensions': 'added,channel,cityName,comment,countryIsoCode,countryName,deleted,delta,isAnonymous,isMinor,isNew,isRobot,isUnpatrolled,metroCode,namespace,page,regionIsoCode,regionName,user',\n",
       "   'metrics': '',\n",
       "   'shardSpec': {'type': 'numbered', 'partitionNum': 0, 'partitions': 1},\n",
       "   'binaryVersion': 9,\n",
       "   'size': 311184,\n",
       "   'identifier': 'wikiticker-2015-09-12-sampled_2015-09-12T12:00:00.000Z_2015-09-12T13:00:00.000Z_2021-07-18T08:58:27.061Z'},\n",
       "  {'dataSource': 'wikiticker-2015-09-12-sampled',\n",
       "   'interval': '2015-09-12T13:00:00.000Z/2015-09-12T14:00:00.000Z',\n",
       "   'version': '2021-07-18T08:58:27.061Z',\n",
       "   'loadSpec': {'type': 'local',\n",
       "    'path': '/opt/shared/segments/wikiticker-2015-09-12-sampled/2015-09-12T13:00:00.000Z_2015-09-12T14:00:00.000Z/2021-07-18T08:58:27.061Z/0/index.zip'},\n",
       "   'dimensions': 'added,channel,cityName,comment,countryIsoCode,countryName,deleted,delta,isAnonymous,isMinor,isNew,isRobot,isUnpatrolled,metroCode,namespace,page,regionIsoCode,regionName,user',\n",
       "   'metrics': '',\n",
       "   'shardSpec': {'type': 'numbered', 'partitionNum': 0, 'partitions': 1},\n",
       "   'binaryVersion': 9,\n",
       "   'size': 358518,\n",
       "   'identifier': 'wikiticker-2015-09-12-sampled_2015-09-12T13:00:00.000Z_2015-09-12T14:00:00.000Z_2021-07-18T08:58:27.061Z'},\n",
       "  {'dataSource': 'wikiticker-2015-09-12-sampled',\n",
       "   'interval': '2015-09-12T14:00:00.000Z/2015-09-12T15:00:00.000Z',\n",
       "   'version': '2021-07-18T08:58:27.061Z',\n",
       "   'loadSpec': {'type': 'local',\n",
       "    'path': '/opt/shared/segments/wikiticker-2015-09-12-sampled/2015-09-12T14:00:00.000Z_2015-09-12T15:00:00.000Z/2021-07-18T08:58:27.061Z/0/index.zip'},\n",
       "   'dimensions': 'added,channel,cityName,comment,countryIsoCode,countryName,deleted,delta,isAnonymous,isMinor,isNew,isRobot,isUnpatrolled,metroCode,namespace,page,regionIsoCode,regionName,user',\n",
       "   'metrics': '',\n",
       "   'shardSpec': {'type': 'numbered', 'partitionNum': 0, 'partitions': 1},\n",
       "   'binaryVersion': 9,\n",
       "   'size': 333410,\n",
       "   'identifier': 'wikiticker-2015-09-12-sampled_2015-09-12T14:00:00.000Z_2015-09-12T15:00:00.000Z_2021-07-18T08:58:27.061Z'},\n",
       "  {'dataSource': 'wikiticker-2015-09-12-sampled',\n",
       "   'interval': '2015-09-12T15:00:00.000Z/2015-09-12T16:00:00.000Z',\n",
       "   'version': '2021-07-18T08:58:27.061Z',\n",
       "   'loadSpec': {'type': 'local',\n",
       "    'path': '/opt/shared/segments/wikiticker-2015-09-12-sampled/2015-09-12T15:00:00.000Z_2015-09-12T16:00:00.000Z/2021-07-18T08:58:27.061Z/0/index.zip'},\n",
       "   'dimensions': 'added,channel,cityName,comment,countryIsoCode,countryName,deleted,delta,isAnonymous,isMinor,isNew,isRobot,isUnpatrolled,metroCode,namespace,page,regionIsoCode,regionName,user',\n",
       "   'metrics': '',\n",
       "   'shardSpec': {'type': 'numbered', 'partitionNum': 0, 'partitions': 1},\n",
       "   'binaryVersion': 9,\n",
       "   'size': 346045,\n",
       "   'identifier': 'wikiticker-2015-09-12-sampled_2015-09-12T15:00:00.000Z_2015-09-12T16:00:00.000Z_2021-07-18T08:58:27.061Z'},\n",
       "  {'dataSource': 'wikiticker-2015-09-12-sampled',\n",
       "   'interval': '2015-09-12T16:00:00.000Z/2015-09-12T17:00:00.000Z',\n",
       "   'version': '2021-07-18T08:58:27.061Z',\n",
       "   'loadSpec': {'type': 'local',\n",
       "    'path': '/opt/shared/segments/wikiticker-2015-09-12-sampled/2015-09-12T16:00:00.000Z_2015-09-12T17:00:00.000Z/2021-07-18T08:58:27.061Z/0/index.zip'},\n",
       "   'dimensions': 'added,channel,cityName,comment,countryIsoCode,countryName,deleted,delta,isAnonymous,isMinor,isNew,isRobot,isUnpatrolled,metroCode,namespace,page,regionIsoCode,regionName,user',\n",
       "   'metrics': '',\n",
       "   'shardSpec': {'type': 'numbered', 'partitionNum': 0, 'partitions': 1},\n",
       "   'binaryVersion': 9,\n",
       "   'size': 350474,\n",
       "   'identifier': 'wikiticker-2015-09-12-sampled_2015-09-12T16:00:00.000Z_2015-09-12T17:00:00.000Z_2021-07-18T08:58:27.061Z'},\n",
       "  {'dataSource': 'wikiticker-2015-09-12-sampled',\n",
       "   'interval': '2015-09-12T17:00:00.000Z/2015-09-12T18:00:00.000Z',\n",
       "   'version': '2021-07-18T08:58:27.061Z',\n",
       "   'loadSpec': {'type': 'local',\n",
       "    'path': '/opt/shared/segments/wikiticker-2015-09-12-sampled/2015-09-12T17:00:00.000Z_2015-09-12T18:00:00.000Z/2021-07-18T08:58:27.061Z/0/index.zip'},\n",
       "   'dimensions': 'added,channel,cityName,comment,countryIsoCode,countryName,deleted,delta,isAnonymous,isMinor,isNew,isRobot,isUnpatrolled,metroCode,namespace,page,regionIsoCode,regionName,user',\n",
       "   'metrics': '',\n",
       "   'shardSpec': {'type': 'numbered', 'partitionNum': 0, 'partitions': 1},\n",
       "   'binaryVersion': 9,\n",
       "   'size': 381018,\n",
       "   'identifier': 'wikiticker-2015-09-12-sampled_2015-09-12T17:00:00.000Z_2015-09-12T18:00:00.000Z_2021-07-18T08:58:27.061Z'},\n",
       "  {'dataSource': 'wikiticker-2015-09-12-sampled',\n",
       "   'interval': '2015-09-12T18:00:00.000Z/2015-09-12T19:00:00.000Z',\n",
       "   'version': '2021-07-18T08:58:27.061Z',\n",
       "   'loadSpec': {'type': 'local',\n",
       "    'path': '/opt/shared/segments/wikiticker-2015-09-12-sampled/2015-09-12T18:00:00.000Z_2015-09-12T19:00:00.000Z/2021-07-18T08:58:27.061Z/0/index.zip'},\n",
       "   'dimensions': 'added,channel,cityName,comment,countryIsoCode,countryName,deleted,delta,isAnonymous,isMinor,isNew,isRobot,isUnpatrolled,metroCode,namespace,page,regionIsoCode,regionName,user',\n",
       "   'metrics': '',\n",
       "   'shardSpec': {'type': 'numbered', 'partitionNum': 0, 'partitions': 1},\n",
       "   'binaryVersion': 9,\n",
       "   'size': 366938,\n",
       "   'identifier': 'wikiticker-2015-09-12-sampled_2015-09-12T18:00:00.000Z_2015-09-12T19:00:00.000Z_2021-07-18T08:58:27.061Z'},\n",
       "  {'dataSource': 'wikiticker-2015-09-12-sampled',\n",
       "   'interval': '2015-09-12T19:00:00.000Z/2015-09-12T20:00:00.000Z',\n",
       "   'version': '2021-07-18T08:58:27.061Z',\n",
       "   'loadSpec': {'type': 'local',\n",
       "    'path': '/opt/shared/segments/wikiticker-2015-09-12-sampled/2015-09-12T19:00:00.000Z_2015-09-12T20:00:00.000Z/2021-07-18T08:58:27.061Z/0/index.zip'},\n",
       "   'dimensions': 'added,channel,cityName,comment,countryIsoCode,countryName,deleted,delta,isAnonymous,isMinor,isNew,isRobot,isUnpatrolled,metroCode,namespace,page,regionIsoCode,regionName,user',\n",
       "   'metrics': '',\n",
       "   'shardSpec': {'type': 'numbered', 'partitionNum': 0, 'partitions': 1},\n",
       "   'binaryVersion': 9,\n",
       "   'size': 361434,\n",
       "   'identifier': 'wikiticker-2015-09-12-sampled_2015-09-12T19:00:00.000Z_2015-09-12T20:00:00.000Z_2021-07-18T08:58:27.061Z'},\n",
       "  {'dataSource': 'wikiticker-2015-09-12-sampled',\n",
       "   'interval': '2015-09-12T20:00:00.000Z/2015-09-12T21:00:00.000Z',\n",
       "   'version': '2021-07-18T08:58:27.061Z',\n",
       "   'loadSpec': {'type': 'local',\n",
       "    'path': '/opt/shared/segments/wikiticker-2015-09-12-sampled/2015-09-12T20:00:00.000Z_2015-09-12T21:00:00.000Z/2021-07-18T08:58:27.061Z/0/index.zip'},\n",
       "   'dimensions': 'added,channel,cityName,comment,countryIsoCode,countryName,deleted,delta,isAnonymous,isMinor,isNew,isRobot,isUnpatrolled,metroCode,namespace,page,regionIsoCode,regionName,user',\n",
       "   'metrics': '',\n",
       "   'shardSpec': {'type': 'numbered', 'partitionNum': 0, 'partitions': 1},\n",
       "   'binaryVersion': 9,\n",
       "   'size': 323235,\n",
       "   'identifier': 'wikiticker-2015-09-12-sampled_2015-09-12T20:00:00.000Z_2015-09-12T21:00:00.000Z_2021-07-18T08:58:27.061Z'},\n",
       "  {'dataSource': 'wikiticker-2015-09-12-sampled',\n",
       "   'interval': '2015-09-12T21:00:00.000Z/2015-09-12T22:00:00.000Z',\n",
       "   'version': '2021-07-18T08:58:27.061Z',\n",
       "   'loadSpec': {'type': 'local',\n",
       "    'path': '/opt/shared/segments/wikiticker-2015-09-12-sampled/2015-09-12T21:00:00.000Z_2015-09-12T22:00:00.000Z/2021-07-18T08:58:27.061Z/0/index.zip'},\n",
       "   'dimensions': 'added,channel,cityName,comment,countryIsoCode,countryName,deleted,delta,isAnonymous,isMinor,isNew,isRobot,isUnpatrolled,metroCode,namespace,page,regionIsoCode,regionName,user',\n",
       "   'metrics': '',\n",
       "   'shardSpec': {'type': 'numbered', 'partitionNum': 0, 'partitions': 1},\n",
       "   'binaryVersion': 9,\n",
       "   'size': 317835,\n",
       "   'identifier': 'wikiticker-2015-09-12-sampled_2015-09-12T21:00:00.000Z_2015-09-12T22:00:00.000Z_2021-07-18T08:58:27.061Z'},\n",
       "  {'dataSource': 'wikiticker-2015-09-12-sampled',\n",
       "   'interval': '2015-09-12T22:00:00.000Z/2015-09-12T23:00:00.000Z',\n",
       "   'version': '2021-07-18T08:58:27.061Z',\n",
       "   'loadSpec': {'type': 'local',\n",
       "    'path': '/opt/shared/segments/wikiticker-2015-09-12-sampled/2015-09-12T22:00:00.000Z_2015-09-12T23:00:00.000Z/2021-07-18T08:58:27.061Z/0/index.zip'},\n",
       "   'dimensions': 'added,channel,cityName,comment,countryIsoCode,countryName,deleted,delta,isAnonymous,isMinor,isNew,isRobot,isUnpatrolled,metroCode,namespace,page,regionIsoCode,regionName,user',\n",
       "   'metrics': '',\n",
       "   'shardSpec': {'type': 'numbered', 'partitionNum': 0, 'partitions': 1},\n",
       "   'binaryVersion': 9,\n",
       "   'size': 281891,\n",
       "   'identifier': 'wikiticker-2015-09-12-sampled_2015-09-12T22:00:00.000Z_2015-09-12T23:00:00.000Z_2021-07-18T08:58:27.061Z'},\n",
       "  {'dataSource': 'wikiticker-2015-09-12-sampled',\n",
       "   'interval': '2015-09-12T23:00:00.000Z/2015-09-13T00:00:00.000Z',\n",
       "   'version': '2021-07-18T08:58:27.061Z',\n",
       "   'loadSpec': {'type': 'local',\n",
       "    'path': '/opt/shared/segments/wikiticker-2015-09-12-sampled/2015-09-12T23:00:00.000Z_2015-09-13T00:00:00.000Z/2021-07-18T08:58:27.061Z/0/index.zip'},\n",
       "   'dimensions': 'added,channel,cityName,comment,countryIsoCode,countryName,deleted,delta,isAnonymous,isMinor,isNew,isRobot,isUnpatrolled,metroCode,namespace,page,regionIsoCode,regionName,user',\n",
       "   'metrics': '',\n",
       "   'shardSpec': {'type': 'numbered', 'partitionNum': 0, 'partitions': 1},\n",
       "   'binaryVersion': 9,\n",
       "   'size': 255528,\n",
       "   'identifier': 'wikiticker-2015-09-12-sampled_2015-09-12T23:00:00.000Z_2015-09-13T00:00:00.000Z_2021-07-18T08:58:27.061Z'}]}"
      ]
     },
     "execution_count": 332,
     "metadata": {},
     "output_type": "execute_result"
    }
   ],
   "source": [
    "md"
   ]
  },
  {
   "cell_type": "code",
   "execution_count": 519,
   "metadata": {},
   "outputs": [
    {
     "data": {
      "text/plain": [
       "['a', 'b']"
      ]
     },
     "execution_count": 519,
     "metadata": {},
     "output_type": "execute_result"
    }
   ],
   "source": [
    "'a,b'.split(',')"
   ]
  },
  {
   "cell_type": "code",
   "execution_count": 520,
   "metadata": {},
   "outputs": [
    {
     "data": {
      "text/plain": [
       "['added',\n",
       " 'channel',\n",
       " 'cityName',\n",
       " 'comment',\n",
       " 'countryIsoCode',\n",
       " 'countryName',\n",
       " 'deleted',\n",
       " 'delta',\n",
       " 'isAnonymous',\n",
       " 'isMinor',\n",
       " 'isNew',\n",
       " 'isRobot',\n",
       " 'isUnpatrolled',\n",
       " 'metroCode',\n",
       " 'namespace',\n",
       " 'page',\n",
       " 'regionIsoCode',\n",
       " 'regionName',\n",
       " 'user']"
      ]
     },
     "execution_count": 520,
     "metadata": {},
     "output_type": "execute_result"
    }
   ],
   "source": [
    "md['segments'][0]['dimensions'].split(',')"
   ]
  },
  {
   "cell_type": "code",
   "execution_count": 45,
   "metadata": {},
   "outputs": [
    {
     "name": "stdout",
     "output_type": "stream",
     "text": [
      "http://localhost:8081/druid/coordinator/v1/rules/history?count=25\n"
     ]
    },
    {
     "data": {
      "text/plain": [
       "[]"
      ]
     },
     "execution_count": 45,
     "metadata": {},
     "output_type": "execute_result"
    }
   ],
   "source": [
    "ds.audit_history()"
   ]
  },
  {
   "cell_type": "code",
   "execution_count": 21,
   "metadata": {},
   "outputs": [
    {
     "name": "stdout",
     "output_type": "stream",
     "text": [
      "http://localhost:8081/druid/coordinator/v1/datasources/wikiticker-2015-09-12-sampled/intervals\n"
     ]
    }
   ],
   "source": [
    "ivs = ds.intervals()"
   ]
  },
  {
   "cell_type": "code",
   "execution_count": 22,
   "metadata": {},
   "outputs": [
    {
     "data": {
      "text/plain": [
       "['2015-09-12T23:00:00.000Z/2015-09-13T00:00:00.000Z',\n",
       " '2015-09-12T22:00:00.000Z/2015-09-12T23:00:00.000Z',\n",
       " '2015-09-12T21:00:00.000Z/2015-09-12T22:00:00.000Z',\n",
       " '2015-09-12T20:00:00.000Z/2015-09-12T21:00:00.000Z',\n",
       " '2015-09-12T19:00:00.000Z/2015-09-12T20:00:00.000Z',\n",
       " '2015-09-12T18:00:00.000Z/2015-09-12T19:00:00.000Z',\n",
       " '2015-09-12T17:00:00.000Z/2015-09-12T18:00:00.000Z',\n",
       " '2015-09-12T16:00:00.000Z/2015-09-12T17:00:00.000Z',\n",
       " '2015-09-12T15:00:00.000Z/2015-09-12T16:00:00.000Z',\n",
       " '2015-09-12T14:00:00.000Z/2015-09-12T15:00:00.000Z']"
      ]
     },
     "execution_count": 22,
     "metadata": {},
     "output_type": "execute_result"
    }
   ],
   "source": [
    "ivs[0:10]"
   ]
  },
  {
   "cell_type": "code",
   "execution_count": 23,
   "metadata": {},
   "outputs": [
    {
     "name": "stdout",
     "output_type": "stream",
     "text": [
      "http://localhost:8081/druid/coordinator/v1/datasources/wikiticker-2015-09-12-sampled/intervals/2015-09-12T23:00:00.000Z_2015-09-13T00:00:00.000Z/serverview\n"
     ]
    },
    {
     "data": {
      "text/plain": [
       "[{'segment': {'dataSource': 'wikiticker-2015-09-12-sampled',\n",
       "   'interval': '2015-09-12T23:00:00.000Z/2015-09-13T00:00:00.000Z',\n",
       "   'version': '2021-07-18T08:58:27.061Z',\n",
       "   'loadSpec': {'type': 'local',\n",
       "    'path': '/opt/shared/segments/wikiticker-2015-09-12-sampled/2015-09-12T23:00:00.000Z_2015-09-13T00:00:00.000Z/2021-07-18T08:58:27.061Z/0/index.zip'},\n",
       "   'dimensions': 'added,channel,cityName,comment,countryIsoCode,countryName,deleted,delta,isAnonymous,isMinor,isNew,isRobot,isUnpatrolled,metroCode,namespace,page,regionIsoCode,regionName,user',\n",
       "   'metrics': '',\n",
       "   'shardSpec': {'type': 'numbered', 'partitionNum': 0, 'partitions': 1},\n",
       "   'binaryVersion': 9,\n",
       "   'size': 255528,\n",
       "   'identifier': 'wikiticker-2015-09-12-sampled_2015-09-12T23:00:00.000Z_2015-09-13T00:00:00.000Z_2021-07-18T08:58:27.061Z'},\n",
       "  'servers': [{'name': '172.18.0.6:8083',\n",
       "    'host': '172.18.0.6:8083',\n",
       "    'hostAndTlsPort': None,\n",
       "    'maxSize': 300000000000,\n",
       "    'type': 'historical',\n",
       "    'tier': '_default_tier',\n",
       "    'priority': 0}]}]"
      ]
     },
     "execution_count": 23,
     "metadata": {},
     "output_type": "execute_result"
    }
   ],
   "source": [
    "ds.interval_servers(ivs[0])"
   ]
  },
  {
   "cell_type": "code",
   "execution_count": 101,
   "metadata": {},
   "outputs": [],
   "source": [
    "import pydruid.client as client"
   ]
  },
  {
   "cell_type": "code",
   "execution_count": 102,
   "metadata": {},
   "outputs": [],
   "source": [
    "query = client.PyDruid(\"http://localhost:8899\", 'druid/v2')"
   ]
  },
  {
   "cell_type": "code",
   "execution_count": 115,
   "metadata": {},
   "outputs": [],
   "source": [
    "result = query.segment_metadata(datasource=\"wikiticker-2015-09-12-sampled\", merge=True,\n",
    "                               analysisTypes=[\"cardinality\", \"interval\", \"minmax\", \"size\"])"
   ]
  },
  {
   "cell_type": "code",
   "execution_count": 322,
   "metadata": {},
   "outputs": [
    {
     "data": {
      "text/plain": [
       "{'query_dict': {'queryType': 'segmentMetadata',\n",
       "  'dataSource': 'wikiticker-2015-09-12-sampled',\n",
       "  'merge': True,\n",
       "  'analysisTypes': ['cardinality', 'interval', 'minmax', 'size']},\n",
       " 'query_type': 'segmentMetadata',\n",
       " 'result': [{'id': 'merged',\n",
       "   'intervals': ['2015-09-12T00:00:00.000Z/2015-09-13T00:00:00.000Z'],\n",
       "   'columns': {'__time': {'type': 'LONG',\n",
       "     'hasMultipleValues': False,\n",
       "     'hasNulls': False,\n",
       "     'size': 392440,\n",
       "     'cardinality': None,\n",
       "     'minValue': None,\n",
       "     'maxValue': None,\n",
       "     'errorMessage': None},\n",
       "    'added': {'type': 'LONG',\n",
       "     'hasMultipleValues': False,\n",
       "     'hasNulls': False,\n",
       "     'size': 313952,\n",
       "     'cardinality': None,\n",
       "     'minValue': None,\n",
       "     'maxValue': None,\n",
       "     'errorMessage': None},\n",
       "    'channel': {'type': 'STRING',\n",
       "     'hasMultipleValues': False,\n",
       "     'hasNulls': False,\n",
       "     'size': 510330,\n",
       "     'cardinality': 45,\n",
       "     'minValue': '#ar.wikipedia',\n",
       "     'maxValue': '#zh.wikipedia',\n",
       "     'errorMessage': None},\n",
       "    'cityName': {'type': 'STRING',\n",
       "     'hasMultipleValues': False,\n",
       "     'hasNulls': True,\n",
       "     'size': 18458,\n",
       "     'cardinality': 100,\n",
       "     'minValue': '',\n",
       "     'maxValue': 'Ōita',\n",
       "     'errorMessage': None},\n",
       "    'comment': {'type': 'STRING',\n",
       "     'hasMultipleValues': False,\n",
       "     'hasNulls': False,\n",
       "     'size': 2002663,\n",
       "     'cardinality': 1285,\n",
       "     'minValue': '!',\n",
       "     'maxValue': '헐',\n",
       "     'errorMessage': None},\n",
       "    'countryIsoCode': {'type': 'STRING',\n",
       "     'hasMultipleValues': False,\n",
       "     'hasNulls': True,\n",
       "     'size': 7598,\n",
       "     'cardinality': 52,\n",
       "     'minValue': '',\n",
       "     'maxValue': 'ZW',\n",
       "     'errorMessage': None},\n",
       "    'countryName': {'type': 'STRING',\n",
       "     'hasMultipleValues': False,\n",
       "     'hasNulls': True,\n",
       "     'size': 32149,\n",
       "     'cardinality': 52,\n",
       "     'minValue': '',\n",
       "     'maxValue': 'Zimbabwe',\n",
       "     'errorMessage': None},\n",
       "    'deleted': {'type': 'LONG',\n",
       "     'hasMultipleValues': False,\n",
       "     'hasNulls': False,\n",
       "     'size': 313952,\n",
       "     'cardinality': None,\n",
       "     'minValue': None,\n",
       "     'maxValue': None,\n",
       "     'errorMessage': None},\n",
       "    'delta': {'type': 'LONG',\n",
       "     'hasMultipleValues': False,\n",
       "     'hasNulls': False,\n",
       "     'size': 313952,\n",
       "     'cardinality': None,\n",
       "     'minValue': None,\n",
       "     'maxValue': None,\n",
       "     'errorMessage': None},\n",
       "    'isAnonymous': {'type': 'STRING',\n",
       "     'hasMultipleValues': False,\n",
       "     'hasNulls': False,\n",
       "     'size': 192421,\n",
       "     'cardinality': 2,\n",
       "     'minValue': 'false',\n",
       "     'maxValue': 'true',\n",
       "     'errorMessage': None},\n",
       "    'isMinor': {'type': 'STRING',\n",
       "     'hasMultipleValues': False,\n",
       "     'hasNulls': False,\n",
       "     'size': 178912,\n",
       "     'cardinality': 2,\n",
       "     'minValue': 'false',\n",
       "     'maxValue': 'true',\n",
       "     'errorMessage': None},\n",
       "    'isNew': {'type': 'STRING',\n",
       "     'hasMultipleValues': False,\n",
       "     'hasNulls': False,\n",
       "     'size': 193942,\n",
       "     'cardinality': 2,\n",
       "     'minValue': 'false',\n",
       "     'maxValue': 'true',\n",
       "     'errorMessage': None},\n",
       "    'isRobot': {'type': 'STRING',\n",
       "     'hasMultipleValues': False,\n",
       "     'hasNulls': False,\n",
       "     'size': 180800,\n",
       "     'cardinality': 2,\n",
       "     'minValue': 'false',\n",
       "     'maxValue': 'true',\n",
       "     'errorMessage': None},\n",
       "    'isUnpatrolled': {'type': 'STRING',\n",
       "     'hasMultipleValues': False,\n",
       "     'hasNulls': False,\n",
       "     'size': 190212,\n",
       "     'cardinality': 2,\n",
       "     'minValue': 'false',\n",
       "     'maxValue': 'true',\n",
       "     'errorMessage': None},\n",
       "    'metroCode': {'type': 'STRING',\n",
       "     'hasMultipleValues': False,\n",
       "     'hasNulls': True,\n",
       "     'size': 1281,\n",
       "     'cardinality': 24,\n",
       "     'minValue': '',\n",
       "     'maxValue': '881',\n",
       "     'errorMessage': None},\n",
       "    'namespace': {'type': 'STRING',\n",
       "     'hasMultipleValues': False,\n",
       "     'hasNulls': False,\n",
       "     'size': 200002,\n",
       "     'cardinality': 92,\n",
       "     'minValue': '21',\n",
       "     'maxValue': '틀',\n",
       "     'errorMessage': None},\n",
       "    'page': {'type': 'STRING',\n",
       "     'hasMultipleValues': False,\n",
       "     'hasNulls': False,\n",
       "     'size': 923662,\n",
       "     'cardinality': 2181,\n",
       "     'minValue': '!T.O.O.H.!',\n",
       "     'maxValue': '𠊎話',\n",
       "     'errorMessage': None},\n",
       "    'regionIsoCode': {'type': 'STRING',\n",
       "     'hasMultipleValues': False,\n",
       "     'hasNulls': True,\n",
       "     'size': 4397,\n",
       "     'cardinality': 85,\n",
       "     'minValue': '',\n",
       "     'maxValue': 'ZP',\n",
       "     'errorMessage': None},\n",
       "    'regionName': {'type': 'STRING',\n",
       "     'hasMultipleValues': False,\n",
       "     'hasNulls': True,\n",
       "     'size': 23753,\n",
       "     'cardinality': 92,\n",
       "     'minValue': '',\n",
       "     'maxValue': 'Świętokrzyskie',\n",
       "     'errorMessage': None},\n",
       "    'user': {'type': 'STRING',\n",
       "     'hasMultipleValues': False,\n",
       "     'hasNulls': False,\n",
       "     'size': 415665,\n",
       "     'cardinality': 969,\n",
       "     'minValue': '! Bikkit !',\n",
       "     'maxValue': 'ＫＡＺＵ',\n",
       "     'errorMessage': None}},\n",
       "   'size': 7195421,\n",
       "   'numRows': 39244,\n",
       "   'aggregators': None,\n",
       "   'timestampSpec': None,\n",
       "   'queryGranularity': None,\n",
       "   'rollup': None}],\n",
       " 'result_json': '[{\"id\":\"merged\",\"intervals\":[\"2015-09-12T00:00:00.000Z/2015-09-13T00:00:00.000Z\"],\"columns\":{\"__time\":{\"type\":\"LONG\",\"hasMultipleValues\":false,\"hasNulls\":false,\"size\":392440,\"cardinality\":null,\"minValue\":null,\"maxValue\":null,\"errorMessage\":null},\"added\":{\"type\":\"LONG\",\"hasMultipleValues\":false,\"hasNulls\":false,\"size\":313952,\"cardinality\":null,\"minValue\":null,\"maxValue\":null,\"errorMessage\":null},\"channel\":{\"type\":\"STRING\",\"hasMultipleValues\":false,\"hasNulls\":false,\"size\":510330,\"cardinality\":45,\"minValue\":\"#ar.wikipedia\",\"maxValue\":\"#zh.wikipedia\",\"errorMessage\":null},\"cityName\":{\"type\":\"STRING\",\"hasMultipleValues\":false,\"hasNulls\":true,\"size\":18458,\"cardinality\":100,\"minValue\":\"\",\"maxValue\":\"Ōita\",\"errorMessage\":null},\"comment\":{\"type\":\"STRING\",\"hasMultipleValues\":false,\"hasNulls\":false,\"size\":2002663,\"cardinality\":1285,\"minValue\":\"!\",\"maxValue\":\"헐\",\"errorMessage\":null},\"countryIsoCode\":{\"type\":\"STRING\",\"hasMultipleValues\":false,\"hasNulls\":true,\"size\":7598,\"cardinality\":52,\"minValue\":\"\",\"maxValue\":\"ZW\",\"errorMessage\":null},\"countryName\":{\"type\":\"STRING\",\"hasMultipleValues\":false,\"hasNulls\":true,\"size\":32149,\"cardinality\":52,\"minValue\":\"\",\"maxValue\":\"Zimbabwe\",\"errorMessage\":null},\"deleted\":{\"type\":\"LONG\",\"hasMultipleValues\":false,\"hasNulls\":false,\"size\":313952,\"cardinality\":null,\"minValue\":null,\"maxValue\":null,\"errorMessage\":null},\"delta\":{\"type\":\"LONG\",\"hasMultipleValues\":false,\"hasNulls\":false,\"size\":313952,\"cardinality\":null,\"minValue\":null,\"maxValue\":null,\"errorMessage\":null},\"isAnonymous\":{\"type\":\"STRING\",\"hasMultipleValues\":false,\"hasNulls\":false,\"size\":192421,\"cardinality\":2,\"minValue\":\"false\",\"maxValue\":\"true\",\"errorMessage\":null},\"isMinor\":{\"type\":\"STRING\",\"hasMultipleValues\":false,\"hasNulls\":false,\"size\":178912,\"cardinality\":2,\"minValue\":\"false\",\"maxValue\":\"true\",\"errorMessage\":null},\"isNew\":{\"type\":\"STRING\",\"hasMultipleValues\":false,\"hasNulls\":false,\"size\":193942,\"cardinality\":2,\"minValue\":\"false\",\"maxValue\":\"true\",\"errorMessage\":null},\"isRobot\":{\"type\":\"STRING\",\"hasMultipleValues\":false,\"hasNulls\":false,\"size\":180800,\"cardinality\":2,\"minValue\":\"false\",\"maxValue\":\"true\",\"errorMessage\":null},\"isUnpatrolled\":{\"type\":\"STRING\",\"hasMultipleValues\":false,\"hasNulls\":false,\"size\":190212,\"cardinality\":2,\"minValue\":\"false\",\"maxValue\":\"true\",\"errorMessage\":null},\"metroCode\":{\"type\":\"STRING\",\"hasMultipleValues\":false,\"hasNulls\":true,\"size\":1281,\"cardinality\":24,\"minValue\":\"\",\"maxValue\":\"881\",\"errorMessage\":null},\"namespace\":{\"type\":\"STRING\",\"hasMultipleValues\":false,\"hasNulls\":false,\"size\":200002,\"cardinality\":92,\"minValue\":\"21\",\"maxValue\":\"틀\",\"errorMessage\":null},\"page\":{\"type\":\"STRING\",\"hasMultipleValues\":false,\"hasNulls\":false,\"size\":923662,\"cardinality\":2181,\"minValue\":\"!T.O.O.H.!\",\"maxValue\":\"\\\\uD840\\\\uDE8E話\",\"errorMessage\":null},\"regionIsoCode\":{\"type\":\"STRING\",\"hasMultipleValues\":false,\"hasNulls\":true,\"size\":4397,\"cardinality\":85,\"minValue\":\"\",\"maxValue\":\"ZP\",\"errorMessage\":null},\"regionName\":{\"type\":\"STRING\",\"hasMultipleValues\":false,\"hasNulls\":true,\"size\":23753,\"cardinality\":92,\"minValue\":\"\",\"maxValue\":\"Świętokrzyskie\",\"errorMessage\":null},\"user\":{\"type\":\"STRING\",\"hasMultipleValues\":false,\"hasNulls\":false,\"size\":415665,\"cardinality\":969,\"minValue\":\"! Bikkit !\",\"maxValue\":\"ＫＡＺＵ\",\"errorMessage\":null}},\"size\":7195421,\"numRows\":39244,\"aggregators\":null,\"timestampSpec\":null,\"queryGranularity\":null,\"rollup\":null}]'}"
      ]
     },
     "execution_count": 322,
     "metadata": {},
     "output_type": "execute_result"
    }
   ],
   "source": [
    "vars(result)"
   ]
  },
  {
   "cell_type": "code",
   "execution_count": 329,
   "metadata": {},
   "outputs": [],
   "source": [
    "ar = result.result[0]"
   ]
  },
  {
   "cell_type": "code",
   "execution_count": 119,
   "metadata": {},
   "outputs": [
    {
     "data": {
      "text/plain": [
       "6410541"
      ]
     },
     "execution_count": 119,
     "metadata": {},
     "output_type": "execute_result"
    }
   ],
   "source": [
    "n = 0\n",
    "for c in x['columns'].values():\n",
    "    n += c['size']\n",
    "n"
   ]
  },
  {
   "cell_type": "code",
   "execution_count": 529,
   "metadata": {},
   "outputs": [
    {
     "data": {
      "text/plain": [
       "<module 'report' from '/home/paul/git/druid-api/report.py'>"
      ]
     },
     "execution_count": 529,
     "metadata": {},
     "output_type": "execute_result"
    }
   ],
   "source": [
    "importlib.reload(report)"
   ]
  },
  {
   "cell_type": "code",
   "execution_count": 530,
   "metadata": {
    "scrolled": true
   },
   "outputs": [
    {
     "data": {
      "text/html": [
       "\n",
       "<style>\n",
       "  .druid table {\n",
       "      border: 1px solid black;\n",
       "      border-collapse: collapse;\n",
       "  }\n",
       "\n",
       "  .druid th, .druid td {\n",
       "      padding: 4px 1em ;\n",
       "      text-align: left;\n",
       "  }\n",
       "\n",
       "  td.druid-right, th.druid-right {\n",
       "      text-align: right;\n",
       "  }\n",
       "\n",
       "  .druid .druid-value {\n",
       "      text-align: left;\n",
       "  }\n",
       "</style>\n"
      ],
      "text/plain": [
       "<IPython.core.display.HTML object>"
      ]
     },
     "metadata": {},
     "output_type": "display_data"
    }
   ],
   "source": [
    "report.styles()"
   ]
  },
  {
   "cell_type": "code",
   "execution_count": 414,
   "metadata": {},
   "outputs": [
    {
     "data": {
      "text/html": [
       "<div class=\"druid\"><table>\n",
       "<tr><th class=\"druid-key\">a</th>\n",
       "<th class=\"druid-value\">b</th>\n",
       "</tr>\n",
       "<tr><td class=\"druid-key\">10</td><td class=\"druid-value\">foo</td></tr>\n",
       "</table></div>"
      ],
      "text/plain": [
       "<IPython.core.display.HTML object>"
      ]
     },
     "metadata": {},
     "output_type": "display_data"
    }
   ],
   "source": [
    "report.show_table([\"a\", \"b\"], [[10, \"foo\"]], [\"druid-key\", \"druid-value\"])"
   ]
  },
  {
   "cell_type": "code",
   "execution_count": 394,
   "metadata": {},
   "outputs": [
    {
     "name": "stdout",
     "output_type": "stream",
     "text": [
      "http://172.18.0.4:8081/druid/coordinator/v1/isLeader\n",
      "http://172.18.0.4:8081/status/health\n"
     ]
    },
    {
     "data": {
      "text/plain": [
       "True"
      ]
     },
     "execution_count": 394,
     "metadata": {},
     "output_type": "execute_result"
    }
   ],
   "source": [
    "d.lead_coordinator().is_healthy()"
   ]
  },
  {
   "cell_type": "code",
   "execution_count": 566,
   "metadata": {},
   "outputs": [
    {
     "data": {
      "text/plain": [
       "<module 'model' from '/home/paul/git/druid-api/model.py'>"
      ]
     },
     "execution_count": 566,
     "metadata": {},
     "output_type": "execute_result"
    }
   ],
   "source": [
    "importlib.reload(model)"
   ]
  },
  {
   "cell_type": "code",
   "execution_count": 560,
   "metadata": {},
   "outputs": [
    {
     "name": "stdout",
     "output_type": "stream",
     "text": [
      "http://172.18.0.4:8081/druid/coordinator/v1/datasources/wikiticker-2015-09-12-sampled/intervals\n",
      "http://172.18.0.4:8081/druid/coordinator/v1/metadata/datasources/wikiticker-2015-09-12-sampled\n"
     ]
    }
   ],
   "source": [
    "m = model.table_model(d, 'wikiticker-2015-09-12-sampled')"
   ]
  },
  {
   "cell_type": "code",
   "execution_count": 573,
   "metadata": {},
   "outputs": [
    {
     "data": {
      "text/plain": [
       "<module 'report' from '/home/paul/git/druid-api/report.py'>"
      ]
     },
     "execution_count": 573,
     "metadata": {},
     "output_type": "execute_result"
    }
   ],
   "source": [
    "importlib.reload(report)"
   ]
  },
  {
   "cell_type": "code",
   "execution_count": 561,
   "metadata": {},
   "outputs": [
    {
     "data": {
      "text/html": [
       "<div class=\"druid\"><h4>Table</h4>\n",
       "<table>\n",
       "<tr><th class=\"druid-right\">Property</th>\n",
       "<th class=\"druid-value\">Value</th>\n",
       "</tr>\n",
       "<tr><td class=\"druid-right\">Name</td><td class=\"druid-value\">wikiticker-2015-09-12-sampled</td></tr>\n",
       "<tr><td class=\"druid-right\">Created</td><td class=\"druid-value\">2021-08-03T19:46:59.673Z</td></tr>\n",
       "<tr><td class=\"druid-right\">Records</td><td class=\"druid-value\">39K</td></tr>\n",
       "<tr><td class=\"druid-right\">Size</td><td class=\"druid-value\">7195 Kib</td></tr>\n",
       "<tr><td class=\"druid-right\">Column Size</td><td class=\"druid-value\">6411 Kib</td></tr>\n",
       "<tr><td class=\"druid-right\">Non-Column Size</td><td class=\"druid-value\">785 Kib</td></tr>\n",
       "<tr><td class=\"druid-right\">Row Width</td><td class=\"druid-value\">183</td></tr>\n",
       "<tr><td class=\"druid-right\">Segments</td><td class=\"druid-value\">24</td></tr>\n",
       "<tr><td class=\"druid-right\">Segment Total</td><td class=\"druid-value\">6729 Kib</td></tr>\n",
       "<tr><td class=\"druid-right\">Non-Segment Size</td><td class=\"druid-value\">466 Kib</td></tr>\n",
       "</table><p><h4>Columns</h4>\n",
       "<table>\n",
       "<tr><th>Name</th>\n",
       "<th>Kind</th>\n",
       "<th>Type</th>\n",
       "<th>Nulls</th>\n",
       "<th class=\"druid-right\">Cardinality</th>\n",
       "<th>Multi-value</th>\n",
       "<th>Total Size</th>\n",
       "<th class=\"druid-right\">Row Size</th>\n",
       "<th class=\"druid-right\">Row %</th>\n",
       "</tr>\n",
       "<tr><td>__time</td><td>id</td><td>long</td><td>False</td><td class=\"druid-right\"></td><td></td><td>392 Kib</td><td class=\"druid-right\">10.00</td><td class=\"druid-right\">6.1%</td></tr>\n",
       "<tr><td>added</td><td>dim</td><td>long</td><td>False</td><td class=\"druid-right\"></td><td></td><td>314 Kib</td><td class=\"druid-right\">8.00</td><td class=\"druid-right\">4.9%</td></tr>\n",
       "<tr><td>channel</td><td>dim</td><td>string</td><td>False</td><td class=\"druid-right\">45</td><td>False</td><td>510 Kib</td><td class=\"druid-right\">13.00</td><td class=\"druid-right\">8.0%</td></tr>\n",
       "<tr><td>cityName</td><td>dim</td><td>string</td><td>True</td><td class=\"druid-right\">100</td><td>False</td><td>18 Kib</td><td class=\"druid-right\">0.47</td><td class=\"druid-right\">0.3%</td></tr>\n",
       "<tr><td>comment</td><td>dim</td><td>string</td><td>False</td><td class=\"druid-right\">1285</td><td>False</td><td>2003 Kib</td><td class=\"druid-right\">51.03</td><td class=\"druid-right\">31.2%</td></tr>\n",
       "<tr><td>countryIsoCode</td><td>dim</td><td>string</td><td>True</td><td class=\"druid-right\">52</td><td>False</td><td>7598 Bytes</td><td class=\"druid-right\">0.19</td><td class=\"druid-right\">0.1%</td></tr>\n",
       "<tr><td>countryName</td><td>dim</td><td>string</td><td>True</td><td class=\"druid-right\">52</td><td>False</td><td>32 Kib</td><td class=\"druid-right\">0.82</td><td class=\"druid-right\">0.5%</td></tr>\n",
       "<tr><td>deleted</td><td>dim</td><td>long</td><td>False</td><td class=\"druid-right\"></td><td></td><td>314 Kib</td><td class=\"druid-right\">8.00</td><td class=\"druid-right\">4.9%</td></tr>\n",
       "<tr><td>delta</td><td>dim</td><td>long</td><td>False</td><td class=\"druid-right\"></td><td></td><td>314 Kib</td><td class=\"druid-right\">8.00</td><td class=\"druid-right\">4.9%</td></tr>\n",
       "<tr><td>isAnonymous</td><td>dim</td><td>string</td><td>False</td><td class=\"druid-right\">2</td><td>False</td><td>192 Kib</td><td class=\"druid-right\">4.90</td><td class=\"druid-right\">3.0%</td></tr>\n",
       "<tr><td>isMinor</td><td>dim</td><td>string</td><td>False</td><td class=\"druid-right\">2</td><td>False</td><td>179 Kib</td><td class=\"druid-right\">4.56</td><td class=\"druid-right\">2.8%</td></tr>\n",
       "<tr><td>isNew</td><td>dim</td><td>string</td><td>False</td><td class=\"druid-right\">2</td><td>False</td><td>194 Kib</td><td class=\"druid-right\">4.94</td><td class=\"druid-right\">3.0%</td></tr>\n",
       "<tr><td>isRobot</td><td>dim</td><td>string</td><td>False</td><td class=\"druid-right\">2</td><td>False</td><td>181 Kib</td><td class=\"druid-right\">4.61</td><td class=\"druid-right\">2.8%</td></tr>\n",
       "<tr><td>isUnpatrolled</td><td>dim</td><td>string</td><td>False</td><td class=\"druid-right\">2</td><td>False</td><td>190 Kib</td><td class=\"druid-right\">4.85</td><td class=\"druid-right\">3.0%</td></tr>\n",
       "<tr><td>metroCode</td><td>dim</td><td>string</td><td>True</td><td class=\"druid-right\">24</td><td>False</td><td>1281 Bytes</td><td class=\"druid-right\">0.03</td><td class=\"druid-right\">0.0%</td></tr>\n",
       "<tr><td>namespace</td><td>dim</td><td>string</td><td>False</td><td class=\"druid-right\">92</td><td>False</td><td>200 Kib</td><td class=\"druid-right\">5.10</td><td class=\"druid-right\">3.1%</td></tr>\n",
       "<tr><td>page</td><td>dim</td><td>string</td><td>False</td><td class=\"druid-right\">2181</td><td>False</td><td>924 Kib</td><td class=\"druid-right\">23.54</td><td class=\"druid-right\">14.4%</td></tr>\n",
       "<tr><td>regionIsoCode</td><td>dim</td><td>string</td><td>True</td><td class=\"druid-right\">85</td><td>False</td><td>4397 Bytes</td><td class=\"druid-right\">0.11</td><td class=\"druid-right\">0.1%</td></tr>\n",
       "<tr><td>regionName</td><td>dim</td><td>string</td><td>True</td><td class=\"druid-right\">92</td><td>False</td><td>24 Kib</td><td class=\"druid-right\">0.61</td><td class=\"druid-right\">0.4%</td></tr>\n",
       "<tr><td>user</td><td>dim</td><td>string</td><td>False</td><td class=\"druid-right\">969</td><td>False</td><td>416 Kib</td><td class=\"druid-right\">10.59</td><td class=\"druid-right\">6.5%</td></tr>\n",
       "</table></div>"
      ],
      "text/plain": [
       "<IPython.core.display.HTML object>"
      ]
     },
     "metadata": {},
     "output_type": "display_data"
    }
   ],
   "source": [
    "report.table_report(m)"
   ]
  },
  {
   "cell_type": "code",
   "execution_count": 574,
   "metadata": {},
   "outputs": [],
   "source": [
    "r = report.Reports(d)"
   ]
  },
  {
   "cell_type": "code",
   "execution_count": 575,
   "metadata": {},
   "outputs": [
    {
     "data": {
      "text/html": [
       "<div class=\"druid\"><table>\n",
       "<tr><th>Table Name</th>\n",
       "</tr>\n",
       "<tr><td>wikipedia</td></tr>\n",
       "<tr><td>wikiticker-2015-09-12-sampled</td></tr>\n",
       "</table></div>"
      ],
      "text/plain": [
       "<IPython.core.display.HTML object>"
      ]
     },
     "metadata": {},
     "output_type": "display_data"
    }
   ],
   "source": [
    "r.tables()"
   ]
  },
  {
   "cell_type": "code",
   "execution_count": 576,
   "metadata": {},
   "outputs": [],
   "source": [
    "t = r.table('wikiticker-2015-09-12-sampled')"
   ]
  },
  {
   "cell_type": "code",
   "execution_count": 577,
   "metadata": {},
   "outputs": [
    {
     "data": {
      "text/html": [
       "<div class=\"druid\"><h4>Table</h4>\n",
       "<table>\n",
       "<tr><th class=\"druid-right\">Property</th>\n",
       "<th class=\"druid-value\">Value</th>\n",
       "</tr>\n",
       "<tr><td class=\"druid-right\">Name</td><td class=\"druid-value\">wikiticker-2015-09-12-sampled</td></tr>\n",
       "<tr><td class=\"druid-right\">Created</td><td class=\"druid-value\">2021-08-03T21:35:59.908Z</td></tr>\n",
       "<tr><td class=\"druid-right\">Records</td><td class=\"druid-value\">39K</td></tr>\n",
       "<tr><td class=\"druid-right\">Size</td><td class=\"druid-value\">7195 Kib</td></tr>\n",
       "<tr><td class=\"druid-right\">Column Size</td><td class=\"druid-value\">6411 Kib</td></tr>\n",
       "<tr><td class=\"druid-right\">Non-Column Size</td><td class=\"druid-value\">785 Kib</td></tr>\n",
       "<tr><td class=\"druid-right\">Row Width</td><td class=\"druid-value\">183</td></tr>\n",
       "</table><p><h4>Columns</h4>\n",
       "<table>\n",
       "<tr><th>Name</th>\n",
       "<th>Kind</th>\n",
       "<th>Type</th>\n",
       "<th>Nulls</th>\n",
       "<th class=\"druid-right\">Cardinality</th>\n",
       "<th>Multi-value</th>\n",
       "<th>Total Size</th>\n",
       "<th class=\"druid-right\">Row Size</th>\n",
       "<th class=\"druid-right\">Row %</th>\n",
       "</tr>\n",
       "<tr><td>__time</td><td>id</td><td>long</td><td>False</td><td class=\"druid-right\"></td><td></td><td>392 Kib</td><td class=\"druid-right\">10.00</td><td class=\"druid-right\">6.1%</td></tr>\n",
       "<tr><td>added</td><td>dim</td><td>long</td><td>False</td><td class=\"druid-right\"></td><td></td><td>314 Kib</td><td class=\"druid-right\">8.00</td><td class=\"druid-right\">4.9%</td></tr>\n",
       "<tr><td>channel</td><td>dim</td><td>string</td><td>False</td><td class=\"druid-right\">45</td><td>False</td><td>510 Kib</td><td class=\"druid-right\">13.00</td><td class=\"druid-right\">8.0%</td></tr>\n",
       "<tr><td>cityName</td><td>dim</td><td>string</td><td>True</td><td class=\"druid-right\">100</td><td>False</td><td>18 Kib</td><td class=\"druid-right\">0.47</td><td class=\"druid-right\">0.3%</td></tr>\n",
       "<tr><td>comment</td><td>dim</td><td>string</td><td>False</td><td class=\"druid-right\">1285</td><td>False</td><td>2003 Kib</td><td class=\"druid-right\">51.03</td><td class=\"druid-right\">31.2%</td></tr>\n",
       "<tr><td>countryIsoCode</td><td>dim</td><td>string</td><td>True</td><td class=\"druid-right\">52</td><td>False</td><td>7598 Bytes</td><td class=\"druid-right\">0.19</td><td class=\"druid-right\">0.1%</td></tr>\n",
       "<tr><td>countryName</td><td>dim</td><td>string</td><td>True</td><td class=\"druid-right\">52</td><td>False</td><td>32 Kib</td><td class=\"druid-right\">0.82</td><td class=\"druid-right\">0.5%</td></tr>\n",
       "<tr><td>deleted</td><td>dim</td><td>long</td><td>False</td><td class=\"druid-right\"></td><td></td><td>314 Kib</td><td class=\"druid-right\">8.00</td><td class=\"druid-right\">4.9%</td></tr>\n",
       "<tr><td>delta</td><td>dim</td><td>long</td><td>False</td><td class=\"druid-right\"></td><td></td><td>314 Kib</td><td class=\"druid-right\">8.00</td><td class=\"druid-right\">4.9%</td></tr>\n",
       "<tr><td>isAnonymous</td><td>dim</td><td>string</td><td>False</td><td class=\"druid-right\">2</td><td>False</td><td>192 Kib</td><td class=\"druid-right\">4.90</td><td class=\"druid-right\">3.0%</td></tr>\n",
       "<tr><td>isMinor</td><td>dim</td><td>string</td><td>False</td><td class=\"druid-right\">2</td><td>False</td><td>179 Kib</td><td class=\"druid-right\">4.56</td><td class=\"druid-right\">2.8%</td></tr>\n",
       "<tr><td>isNew</td><td>dim</td><td>string</td><td>False</td><td class=\"druid-right\">2</td><td>False</td><td>194 Kib</td><td class=\"druid-right\">4.94</td><td class=\"druid-right\">3.0%</td></tr>\n",
       "<tr><td>isRobot</td><td>dim</td><td>string</td><td>False</td><td class=\"druid-right\">2</td><td>False</td><td>181 Kib</td><td class=\"druid-right\">4.61</td><td class=\"druid-right\">2.8%</td></tr>\n",
       "<tr><td>isUnpatrolled</td><td>dim</td><td>string</td><td>False</td><td class=\"druid-right\">2</td><td>False</td><td>190 Kib</td><td class=\"druid-right\">4.85</td><td class=\"druid-right\">3.0%</td></tr>\n",
       "<tr><td>metroCode</td><td>dim</td><td>string</td><td>True</td><td class=\"druid-right\">24</td><td>False</td><td>1281 Bytes</td><td class=\"druid-right\">0.03</td><td class=\"druid-right\">0.0%</td></tr>\n",
       "<tr><td>namespace</td><td>dim</td><td>string</td><td>False</td><td class=\"druid-right\">92</td><td>False</td><td>200 Kib</td><td class=\"druid-right\">5.10</td><td class=\"druid-right\">3.1%</td></tr>\n",
       "<tr><td>page</td><td>dim</td><td>string</td><td>False</td><td class=\"druid-right\">2181</td><td>False</td><td>924 Kib</td><td class=\"druid-right\">23.54</td><td class=\"druid-right\">14.4%</td></tr>\n",
       "<tr><td>regionIsoCode</td><td>dim</td><td>string</td><td>True</td><td class=\"druid-right\">85</td><td>False</td><td>4397 Bytes</td><td class=\"druid-right\">0.11</td><td class=\"druid-right\">0.1%</td></tr>\n",
       "<tr><td>regionName</td><td>dim</td><td>string</td><td>True</td><td class=\"druid-right\">92</td><td>False</td><td>24 Kib</td><td class=\"druid-right\">0.61</td><td class=\"druid-right\">0.4%</td></tr>\n",
       "<tr><td>user</td><td>dim</td><td>string</td><td>False</td><td class=\"druid-right\">969</td><td>False</td><td>416 Kib</td><td class=\"druid-right\">10.59</td><td class=\"druid-right\">6.5%</td></tr>\n",
       "</table></div>"
      ],
      "text/plain": [
       "<IPython.core.display.HTML object>"
      ]
     },
     "metadata": {},
     "output_type": "display_data"
    }
   ],
   "source": [
    "t.schema()"
   ]
  },
  {
   "cell_type": "code",
   "execution_count": 439,
   "metadata": {},
   "outputs": [
    {
     "data": {
      "text/plain": [
       "'123 Bytes'"
      ]
     },
     "execution_count": 439,
     "metadata": {},
     "output_type": "execute_result"
    }
   ],
   "source": [
    "report.round_bin(123)"
   ]
  },
  {
   "cell_type": "code",
   "execution_count": 442,
   "metadata": {},
   "outputs": [
    {
     "data": {
      "text/html": [
       "<h4>foo</h4>\n"
      ],
      "text/plain": [
       "<IPython.core.display.HTML object>"
      ]
     },
     "metadata": {},
     "output_type": "display_data"
    }
   ],
   "source": [
    "%%html\n",
    "<h4>foo</h4>"
   ]
  },
  {
   "cell_type": "code",
   "execution_count": 463,
   "metadata": {},
   "outputs": [
    {
     "data": {
      "text/plain": [
       "'foo'"
      ]
     },
     "execution_count": 463,
     "metadata": {},
     "output_type": "execute_result"
    }
   ],
   "source": [
    "\"FOO\".lower()"
   ]
  },
  {
   "cell_type": "code",
   "execution_count": 472,
   "metadata": {},
   "outputs": [
    {
     "data": {
      "text/plain": [
       "'None'"
      ]
     },
     "execution_count": 472,
     "metadata": {},
     "output_type": "execute_result"
    }
   ],
   "source": [
    "str(None)"
   ]
  },
  {
   "cell_type": "code",
   "execution_count": null,
   "metadata": {},
   "outputs": [],
   "source": []
  }
 ],
 "metadata": {
  "kernelspec": {
   "display_name": "Python 3 (ipykernel)",
   "language": "python",
   "name": "python3"
  },
  "language_info": {
   "codemirror_mode": {
    "name": "ipython",
    "version": 3
   },
   "file_extension": ".py",
   "mimetype": "text/x-python",
   "name": "python",
   "nbconvert_exporter": "python",
   "pygments_lexer": "ipython3",
   "version": "3.8.10"
  }
 },
 "nbformat": 4,
 "nbformat_minor": 4
}
